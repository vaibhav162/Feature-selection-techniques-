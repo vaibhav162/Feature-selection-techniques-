{
 "cells": [
  {
   "cell_type": "markdown",
   "metadata": {},
   "source": [
    "# Feature Selection Techniques"
   ]
  },
  {
   "cell_type": "code",
   "execution_count": 1,
   "metadata": {},
   "outputs": [],
   "source": [
    "## Import pandas library\n",
    "\n",
    "import pandas as pd"
   ]
  },
  {
   "cell_type": "code",
   "execution_count": 2,
   "metadata": {},
   "outputs": [],
   "source": [
    "## Read the required dataset\n",
    "\n",
    "df=pd.read_csv(\"C:/Users/INDIA/Downloads/day.csv\")"
   ]
  },
  {
   "cell_type": "code",
   "execution_count": 3,
   "metadata": {},
   "outputs": [
    {
     "data": {
      "text/html": [
       "<div>\n",
       "<style scoped>\n",
       "    .dataframe tbody tr th:only-of-type {\n",
       "        vertical-align: middle;\n",
       "    }\n",
       "\n",
       "    .dataframe tbody tr th {\n",
       "        vertical-align: top;\n",
       "    }\n",
       "\n",
       "    .dataframe thead th {\n",
       "        text-align: right;\n",
       "    }\n",
       "</style>\n",
       "<table border=\"1\" class=\"dataframe\">\n",
       "  <thead>\n",
       "    <tr style=\"text-align: right;\">\n",
       "      <th></th>\n",
       "      <th>instant</th>\n",
       "      <th>dteday</th>\n",
       "      <th>season</th>\n",
       "      <th>yr</th>\n",
       "      <th>mnth</th>\n",
       "      <th>holiday</th>\n",
       "      <th>weekday</th>\n",
       "      <th>workingday</th>\n",
       "      <th>weathersit</th>\n",
       "      <th>temp</th>\n",
       "      <th>atemp</th>\n",
       "      <th>hum</th>\n",
       "      <th>windspeed</th>\n",
       "      <th>casual</th>\n",
       "      <th>registered</th>\n",
       "      <th>cnt</th>\n",
       "    </tr>\n",
       "  </thead>\n",
       "  <tbody>\n",
       "    <tr>\n",
       "      <th>0</th>\n",
       "      <td>1</td>\n",
       "      <td>01-01-2018</td>\n",
       "      <td>1</td>\n",
       "      <td>0</td>\n",
       "      <td>1</td>\n",
       "      <td>0</td>\n",
       "      <td>6</td>\n",
       "      <td>0</td>\n",
       "      <td>2</td>\n",
       "      <td>14.110847</td>\n",
       "      <td>18.18125</td>\n",
       "      <td>80.5833</td>\n",
       "      <td>10.749882</td>\n",
       "      <td>331</td>\n",
       "      <td>654</td>\n",
       "      <td>985</td>\n",
       "    </tr>\n",
       "    <tr>\n",
       "      <th>1</th>\n",
       "      <td>2</td>\n",
       "      <td>02-01-2018</td>\n",
       "      <td>1</td>\n",
       "      <td>0</td>\n",
       "      <td>1</td>\n",
       "      <td>0</td>\n",
       "      <td>0</td>\n",
       "      <td>0</td>\n",
       "      <td>2</td>\n",
       "      <td>14.902598</td>\n",
       "      <td>17.68695</td>\n",
       "      <td>69.6087</td>\n",
       "      <td>16.652113</td>\n",
       "      <td>131</td>\n",
       "      <td>670</td>\n",
       "      <td>801</td>\n",
       "    </tr>\n",
       "    <tr>\n",
       "      <th>2</th>\n",
       "      <td>3</td>\n",
       "      <td>03-01-2018</td>\n",
       "      <td>1</td>\n",
       "      <td>0</td>\n",
       "      <td>1</td>\n",
       "      <td>0</td>\n",
       "      <td>1</td>\n",
       "      <td>1</td>\n",
       "      <td>1</td>\n",
       "      <td>8.050924</td>\n",
       "      <td>9.47025</td>\n",
       "      <td>43.7273</td>\n",
       "      <td>16.636703</td>\n",
       "      <td>120</td>\n",
       "      <td>1229</td>\n",
       "      <td>1349</td>\n",
       "    </tr>\n",
       "    <tr>\n",
       "      <th>3</th>\n",
       "      <td>4</td>\n",
       "      <td>04-01-2018</td>\n",
       "      <td>1</td>\n",
       "      <td>0</td>\n",
       "      <td>1</td>\n",
       "      <td>0</td>\n",
       "      <td>2</td>\n",
       "      <td>1</td>\n",
       "      <td>1</td>\n",
       "      <td>8.200000</td>\n",
       "      <td>10.60610</td>\n",
       "      <td>59.0435</td>\n",
       "      <td>10.739832</td>\n",
       "      <td>108</td>\n",
       "      <td>1454</td>\n",
       "      <td>1562</td>\n",
       "    </tr>\n",
       "    <tr>\n",
       "      <th>4</th>\n",
       "      <td>5</td>\n",
       "      <td>05-01-2018</td>\n",
       "      <td>1</td>\n",
       "      <td>0</td>\n",
       "      <td>1</td>\n",
       "      <td>0</td>\n",
       "      <td>3</td>\n",
       "      <td>1</td>\n",
       "      <td>1</td>\n",
       "      <td>9.305237</td>\n",
       "      <td>11.46350</td>\n",
       "      <td>43.6957</td>\n",
       "      <td>12.522300</td>\n",
       "      <td>82</td>\n",
       "      <td>1518</td>\n",
       "      <td>1600</td>\n",
       "    </tr>\n",
       "  </tbody>\n",
       "</table>\n",
       "</div>"
      ],
      "text/plain": [
       "   instant      dteday  season  yr  mnth  holiday  weekday  workingday  \\\n",
       "0        1  01-01-2018       1   0     1        0        6           0   \n",
       "1        2  02-01-2018       1   0     1        0        0           0   \n",
       "2        3  03-01-2018       1   0     1        0        1           1   \n",
       "3        4  04-01-2018       1   0     1        0        2           1   \n",
       "4        5  05-01-2018       1   0     1        0        3           1   \n",
       "\n",
       "   weathersit       temp     atemp      hum  windspeed  casual  registered  \\\n",
       "0           2  14.110847  18.18125  80.5833  10.749882     331         654   \n",
       "1           2  14.902598  17.68695  69.6087  16.652113     131         670   \n",
       "2           1   8.050924   9.47025  43.7273  16.636703     120        1229   \n",
       "3           1   8.200000  10.60610  59.0435  10.739832     108        1454   \n",
       "4           1   9.305237  11.46350  43.6957  12.522300      82        1518   \n",
       "\n",
       "    cnt  \n",
       "0   985  \n",
       "1   801  \n",
       "2  1349  \n",
       "3  1562  \n",
       "4  1600  "
      ]
     },
     "execution_count": 3,
     "metadata": {},
     "output_type": "execute_result"
    }
   ],
   "source": [
    "df.head()"
   ]
  },
  {
   "cell_type": "markdown",
   "metadata": {},
   "source": [
    "## Data Cleaning"
   ]
  },
  {
   "cell_type": "code",
   "execution_count": 4,
   "metadata": {},
   "outputs": [],
   "source": [
    "## Target variable\n",
    "y=df['cnt']"
   ]
  },
  {
   "cell_type": "markdown",
   "metadata": {},
   "source": [
    "### Remove the Target column and feature columns that does not help to predict Target variable"
   ]
  },
  {
   "cell_type": "code",
   "execution_count": 5,
   "metadata": {},
   "outputs": [],
   "source": [
    "df=df.drop(['instant','dteday','casual','registered'],axis=1)"
   ]
  },
  {
   "cell_type": "code",
   "execution_count": 6,
   "metadata": {},
   "outputs": [
    {
     "data": {
      "text/html": [
       "<div>\n",
       "<style scoped>\n",
       "    .dataframe tbody tr th:only-of-type {\n",
       "        vertical-align: middle;\n",
       "    }\n",
       "\n",
       "    .dataframe tbody tr th {\n",
       "        vertical-align: top;\n",
       "    }\n",
       "\n",
       "    .dataframe thead th {\n",
       "        text-align: right;\n",
       "    }\n",
       "</style>\n",
       "<table border=\"1\" class=\"dataframe\">\n",
       "  <thead>\n",
       "    <tr style=\"text-align: right;\">\n",
       "      <th></th>\n",
       "      <th>season</th>\n",
       "      <th>yr</th>\n",
       "      <th>mnth</th>\n",
       "      <th>holiday</th>\n",
       "      <th>weekday</th>\n",
       "      <th>workingday</th>\n",
       "      <th>weathersit</th>\n",
       "      <th>temp</th>\n",
       "      <th>atemp</th>\n",
       "      <th>hum</th>\n",
       "      <th>windspeed</th>\n",
       "      <th>cnt</th>\n",
       "    </tr>\n",
       "  </thead>\n",
       "  <tbody>\n",
       "    <tr>\n",
       "      <th>0</th>\n",
       "      <td>1</td>\n",
       "      <td>0</td>\n",
       "      <td>1</td>\n",
       "      <td>0</td>\n",
       "      <td>6</td>\n",
       "      <td>0</td>\n",
       "      <td>2</td>\n",
       "      <td>14.110847</td>\n",
       "      <td>18.18125</td>\n",
       "      <td>80.5833</td>\n",
       "      <td>10.749882</td>\n",
       "      <td>985</td>\n",
       "    </tr>\n",
       "    <tr>\n",
       "      <th>1</th>\n",
       "      <td>1</td>\n",
       "      <td>0</td>\n",
       "      <td>1</td>\n",
       "      <td>0</td>\n",
       "      <td>0</td>\n",
       "      <td>0</td>\n",
       "      <td>2</td>\n",
       "      <td>14.902598</td>\n",
       "      <td>17.68695</td>\n",
       "      <td>69.6087</td>\n",
       "      <td>16.652113</td>\n",
       "      <td>801</td>\n",
       "    </tr>\n",
       "    <tr>\n",
       "      <th>2</th>\n",
       "      <td>1</td>\n",
       "      <td>0</td>\n",
       "      <td>1</td>\n",
       "      <td>0</td>\n",
       "      <td>1</td>\n",
       "      <td>1</td>\n",
       "      <td>1</td>\n",
       "      <td>8.050924</td>\n",
       "      <td>9.47025</td>\n",
       "      <td>43.7273</td>\n",
       "      <td>16.636703</td>\n",
       "      <td>1349</td>\n",
       "    </tr>\n",
       "    <tr>\n",
       "      <th>3</th>\n",
       "      <td>1</td>\n",
       "      <td>0</td>\n",
       "      <td>1</td>\n",
       "      <td>0</td>\n",
       "      <td>2</td>\n",
       "      <td>1</td>\n",
       "      <td>1</td>\n",
       "      <td>8.200000</td>\n",
       "      <td>10.60610</td>\n",
       "      <td>59.0435</td>\n",
       "      <td>10.739832</td>\n",
       "      <td>1562</td>\n",
       "    </tr>\n",
       "    <tr>\n",
       "      <th>4</th>\n",
       "      <td>1</td>\n",
       "      <td>0</td>\n",
       "      <td>1</td>\n",
       "      <td>0</td>\n",
       "      <td>3</td>\n",
       "      <td>1</td>\n",
       "      <td>1</td>\n",
       "      <td>9.305237</td>\n",
       "      <td>11.46350</td>\n",
       "      <td>43.6957</td>\n",
       "      <td>12.522300</td>\n",
       "      <td>1600</td>\n",
       "    </tr>\n",
       "  </tbody>\n",
       "</table>\n",
       "</div>"
      ],
      "text/plain": [
       "   season  yr  mnth  holiday  weekday  workingday  weathersit       temp  \\\n",
       "0       1   0     1        0        6           0           2  14.110847   \n",
       "1       1   0     1        0        0           0           2  14.902598   \n",
       "2       1   0     1        0        1           1           1   8.050924   \n",
       "3       1   0     1        0        2           1           1   8.200000   \n",
       "4       1   0     1        0        3           1           1   9.305237   \n",
       "\n",
       "      atemp      hum  windspeed   cnt  \n",
       "0  18.18125  80.5833  10.749882   985  \n",
       "1  17.68695  69.6087  16.652113   801  \n",
       "2   9.47025  43.7273  16.636703  1349  \n",
       "3  10.60610  59.0435  10.739832  1562  \n",
       "4  11.46350  43.6957  12.522300  1600  "
      ]
     },
     "execution_count": 6,
     "metadata": {},
     "output_type": "execute_result"
    }
   ],
   "source": [
    "df.head()"
   ]
  },
  {
   "cell_type": "markdown",
   "metadata": {},
   "source": [
    "### Convert season value indexes to string "
   ]
  },
  {
   "cell_type": "code",
   "execution_count": 7,
   "metadata": {},
   "outputs": [
    {
     "data": {
      "text/plain": [
       "3    188\n",
       "2    184\n",
       "1    180\n",
       "4    178\n",
       "Name: season, dtype: int64"
      ]
     },
     "execution_count": 7,
     "metadata": {},
     "output_type": "execute_result"
    }
   ],
   "source": [
    "df['season'].value_counts()"
   ]
  },
  {
   "cell_type": "code",
   "execution_count": 8,
   "metadata": {},
   "outputs": [],
   "source": [
    "df['season']=df['season'].replace(1,'spring')\n",
    "df['season']=df['season'].replace(2,'summer')\n",
    "df['season']=df['season'].replace(3,'fall')\n",
    "df['season']=df['season'].replace(4,'winter')"
   ]
  },
  {
   "cell_type": "code",
   "execution_count": 9,
   "metadata": {},
   "outputs": [
    {
     "data": {
      "text/plain": [
       "fall      188\n",
       "summer    184\n",
       "spring    180\n",
       "winter    178\n",
       "Name: season, dtype: int64"
      ]
     },
     "execution_count": 9,
     "metadata": {},
     "output_type": "execute_result"
    }
   ],
   "source": [
    "df['season'].value_counts()"
   ]
  },
  {
   "cell_type": "markdown",
   "metadata": {},
   "source": [
    "### Convert Month value indexes to string"
   ]
  },
  {
   "cell_type": "code",
   "execution_count": 10,
   "metadata": {},
   "outputs": [
    {
     "data": {
      "text/plain": [
       "12    62\n",
       "10    62\n",
       "8     62\n",
       "7     62\n",
       "5     62\n",
       "3     62\n",
       "1     62\n",
       "11    60\n",
       "9     60\n",
       "6     60\n",
       "4     60\n",
       "2     56\n",
       "Name: mnth, dtype: int64"
      ]
     },
     "execution_count": 10,
     "metadata": {},
     "output_type": "execute_result"
    }
   ],
   "source": [
    "df['mnth'].value_counts()"
   ]
  },
  {
   "cell_type": "code",
   "execution_count": 11,
   "metadata": {},
   "outputs": [],
   "source": [
    "def object_map(x):\n",
    "    return x.map({1:'Jan',2:'Feb',3:'Mar',4:'Apr',5:'May',6:'June',7:'July',8:'Aug',9:'Sept',10:'Oct',11:'Nov',12:'Dec'})"
   ]
  },
  {
   "cell_type": "code",
   "execution_count": 12,
   "metadata": {},
   "outputs": [],
   "source": [
    "df[['mnth']]=df[['mnth']].apply(object_map)"
   ]
  },
  {
   "cell_type": "code",
   "execution_count": 13,
   "metadata": {},
   "outputs": [
    {
     "data": {
      "text/plain": [
       "Jan     62\n",
       "May     62\n",
       "Mar     62\n",
       "Oct     62\n",
       "July    62\n",
       "Dec     62\n",
       "Aug     62\n",
       "Nov     60\n",
       "Sept    60\n",
       "Apr     60\n",
       "June    60\n",
       "Feb     56\n",
       "Name: mnth, dtype: int64"
      ]
     },
     "execution_count": 13,
     "metadata": {},
     "output_type": "execute_result"
    }
   ],
   "source": [
    "df['mnth'].value_counts()"
   ]
  },
  {
   "cell_type": "markdown",
   "metadata": {},
   "source": [
    "### Convert weekday values indexes to string"
   ]
  },
  {
   "cell_type": "code",
   "execution_count": 14,
   "metadata": {},
   "outputs": [
    {
     "data": {
      "text/plain": [
       "6    105\n",
       "1    105\n",
       "0    105\n",
       "5    104\n",
       "4    104\n",
       "2    104\n",
       "3    103\n",
       "Name: weekday, dtype: int64"
      ]
     },
     "execution_count": 14,
     "metadata": {},
     "output_type": "execute_result"
    }
   ],
   "source": [
    "df['weekday'].value_counts()"
   ]
  },
  {
   "cell_type": "code",
   "execution_count": 15,
   "metadata": {},
   "outputs": [],
   "source": [
    "def str_map(x):\n",
    "    return x.map({0:'Tues',1:'Wed',2:'Thur',3:'Fri',4:'Sat',5:'Sun',6:'Mon'})"
   ]
  },
  {
   "cell_type": "code",
   "execution_count": 16,
   "metadata": {},
   "outputs": [],
   "source": [
    "df[['weekday']]=df[['weekday']].apply(str_map)"
   ]
  },
  {
   "cell_type": "code",
   "execution_count": 17,
   "metadata": {},
   "outputs": [
    {
     "data": {
      "text/plain": [
       "Wed     105\n",
       "Tues    105\n",
       "Mon     105\n",
       "Thur    104\n",
       "Sat     104\n",
       "Sun     104\n",
       "Fri     103\n",
       "Name: weekday, dtype: int64"
      ]
     },
     "execution_count": 17,
     "metadata": {},
     "output_type": "execute_result"
    }
   ],
   "source": [
    "df['weekday'].value_counts()"
   ]
  },
  {
   "cell_type": "markdown",
   "metadata": {},
   "source": [
    "### Convert weathersit values indexes to string"
   ]
  },
  {
   "cell_type": "code",
   "execution_count": 18,
   "metadata": {},
   "outputs": [
    {
     "data": {
      "text/plain": [
       "1    463\n",
       "2    246\n",
       "3     21\n",
       "Name: weathersit, dtype: int64"
      ]
     },
     "execution_count": 18,
     "metadata": {},
     "output_type": "execute_result"
    }
   ],
   "source": [
    "df['weathersit'].value_counts()"
   ]
  },
  {
   "cell_type": "code",
   "execution_count": 19,
   "metadata": {},
   "outputs": [],
   "source": [
    "df['weathersit']=df['weathersit'].replace(1,'clear')\n",
    "df['weathersit']=df['weathersit'].replace(2,'cloudy')\n",
    "df['weathersit']=df['weathersit'].replace(3,'light rain')\n",
    "df['weathersit']=df['weathersit'].replace(4,'heavy rain')"
   ]
  },
  {
   "cell_type": "code",
   "execution_count": 20,
   "metadata": {},
   "outputs": [
    {
     "data": {
      "text/plain": [
       "clear         463\n",
       "cloudy        246\n",
       "light rain     21\n",
       "Name: weathersit, dtype: int64"
      ]
     },
     "execution_count": 20,
     "metadata": {},
     "output_type": "execute_result"
    }
   ],
   "source": [
    "df['weathersit'].value_counts()"
   ]
  },
  {
   "cell_type": "markdown",
   "metadata": {},
   "source": [
    "## Checking for missing values"
   ]
  },
  {
   "cell_type": "code",
   "execution_count": 21,
   "metadata": {},
   "outputs": [
    {
     "data": {
      "text/plain": [
       "season        0\n",
       "yr            0\n",
       "mnth          0\n",
       "holiday       0\n",
       "weekday       0\n",
       "workingday    0\n",
       "weathersit    0\n",
       "temp          0\n",
       "atemp         0\n",
       "hum           0\n",
       "windspeed     0\n",
       "cnt           0\n",
       "dtype: int64"
      ]
     },
     "execution_count": 21,
     "metadata": {},
     "output_type": "execute_result"
    }
   ],
   "source": [
    "df.isna().sum()"
   ]
  },
  {
   "cell_type": "markdown",
   "metadata": {},
   "source": [
    "# Machine Learning Workflow "
   ]
  },
  {
   "cell_type": "markdown",
   "metadata": {},
   "source": [
    "### In this analysis, i would like to build a regrssion models with scikit-learn as well as statsmodels"
   ]
  },
  {
   "cell_type": "markdown",
   "metadata": {},
   "source": [
    "## 1. Extract Features"
   ]
  },
  {
   "cell_type": "code",
   "execution_count": 22,
   "metadata": {},
   "outputs": [],
   "source": [
    "x=df.drop('cnt',axis=1)"
   ]
  },
  {
   "cell_type": "code",
   "execution_count": 23,
   "metadata": {},
   "outputs": [
    {
     "data": {
      "text/html": [
       "<div>\n",
       "<style scoped>\n",
       "    .dataframe tbody tr th:only-of-type {\n",
       "        vertical-align: middle;\n",
       "    }\n",
       "\n",
       "    .dataframe tbody tr th {\n",
       "        vertical-align: top;\n",
       "    }\n",
       "\n",
       "    .dataframe thead th {\n",
       "        text-align: right;\n",
       "    }\n",
       "</style>\n",
       "<table border=\"1\" class=\"dataframe\">\n",
       "  <thead>\n",
       "    <tr style=\"text-align: right;\">\n",
       "      <th></th>\n",
       "      <th>season</th>\n",
       "      <th>yr</th>\n",
       "      <th>mnth</th>\n",
       "      <th>holiday</th>\n",
       "      <th>weekday</th>\n",
       "      <th>workingday</th>\n",
       "      <th>weathersit</th>\n",
       "      <th>temp</th>\n",
       "      <th>atemp</th>\n",
       "      <th>hum</th>\n",
       "      <th>windspeed</th>\n",
       "    </tr>\n",
       "  </thead>\n",
       "  <tbody>\n",
       "    <tr>\n",
       "      <th>0</th>\n",
       "      <td>spring</td>\n",
       "      <td>0</td>\n",
       "      <td>Jan</td>\n",
       "      <td>0</td>\n",
       "      <td>Mon</td>\n",
       "      <td>0</td>\n",
       "      <td>cloudy</td>\n",
       "      <td>14.110847</td>\n",
       "      <td>18.18125</td>\n",
       "      <td>80.5833</td>\n",
       "      <td>10.749882</td>\n",
       "    </tr>\n",
       "    <tr>\n",
       "      <th>1</th>\n",
       "      <td>spring</td>\n",
       "      <td>0</td>\n",
       "      <td>Jan</td>\n",
       "      <td>0</td>\n",
       "      <td>Tues</td>\n",
       "      <td>0</td>\n",
       "      <td>cloudy</td>\n",
       "      <td>14.902598</td>\n",
       "      <td>17.68695</td>\n",
       "      <td>69.6087</td>\n",
       "      <td>16.652113</td>\n",
       "    </tr>\n",
       "    <tr>\n",
       "      <th>2</th>\n",
       "      <td>spring</td>\n",
       "      <td>0</td>\n",
       "      <td>Jan</td>\n",
       "      <td>0</td>\n",
       "      <td>Wed</td>\n",
       "      <td>1</td>\n",
       "      <td>clear</td>\n",
       "      <td>8.050924</td>\n",
       "      <td>9.47025</td>\n",
       "      <td>43.7273</td>\n",
       "      <td>16.636703</td>\n",
       "    </tr>\n",
       "    <tr>\n",
       "      <th>3</th>\n",
       "      <td>spring</td>\n",
       "      <td>0</td>\n",
       "      <td>Jan</td>\n",
       "      <td>0</td>\n",
       "      <td>Thur</td>\n",
       "      <td>1</td>\n",
       "      <td>clear</td>\n",
       "      <td>8.200000</td>\n",
       "      <td>10.60610</td>\n",
       "      <td>59.0435</td>\n",
       "      <td>10.739832</td>\n",
       "    </tr>\n",
       "    <tr>\n",
       "      <th>4</th>\n",
       "      <td>spring</td>\n",
       "      <td>0</td>\n",
       "      <td>Jan</td>\n",
       "      <td>0</td>\n",
       "      <td>Fri</td>\n",
       "      <td>1</td>\n",
       "      <td>clear</td>\n",
       "      <td>9.305237</td>\n",
       "      <td>11.46350</td>\n",
       "      <td>43.6957</td>\n",
       "      <td>12.522300</td>\n",
       "    </tr>\n",
       "  </tbody>\n",
       "</table>\n",
       "</div>"
      ],
      "text/plain": [
       "   season  yr mnth  holiday weekday  workingday weathersit       temp  \\\n",
       "0  spring   0  Jan        0     Mon           0     cloudy  14.110847   \n",
       "1  spring   0  Jan        0    Tues           0     cloudy  14.902598   \n",
       "2  spring   0  Jan        0     Wed           1      clear   8.050924   \n",
       "3  spring   0  Jan        0    Thur           1      clear   8.200000   \n",
       "4  spring   0  Jan        0     Fri           1      clear   9.305237   \n",
       "\n",
       "      atemp      hum  windspeed  \n",
       "0  18.18125  80.5833  10.749882  \n",
       "1  17.68695  69.6087  16.652113  \n",
       "2   9.47025  43.7273  16.636703  \n",
       "3  10.60610  59.0435  10.739832  \n",
       "4  11.46350  43.6957  12.522300  "
      ]
     },
     "execution_count": 23,
     "metadata": {},
     "output_type": "execute_result"
    }
   ],
   "source": [
    "x.head()"
   ]
  },
  {
   "cell_type": "code",
   "execution_count": 24,
   "metadata": {},
   "outputs": [],
   "source": [
    "y=df['cnt']"
   ]
  },
  {
   "cell_type": "markdown",
   "metadata": {},
   "source": [
    "### 1.1 Feature and target should not have null values"
   ]
  },
  {
   "cell_type": "code",
   "execution_count": 25,
   "metadata": {},
   "outputs": [
    {
     "data": {
      "text/plain": [
       "season        0\n",
       "yr            0\n",
       "mnth          0\n",
       "holiday       0\n",
       "weekday       0\n",
       "workingday    0\n",
       "weathersit    0\n",
       "temp          0\n",
       "atemp         0\n",
       "hum           0\n",
       "windspeed     0\n",
       "dtype: int64"
      ]
     },
     "execution_count": 25,
     "metadata": {},
     "output_type": "execute_result"
    }
   ],
   "source": [
    "x.isna().sum()"
   ]
  },
  {
   "cell_type": "code",
   "execution_count": 26,
   "metadata": {},
   "outputs": [
    {
     "data": {
      "text/plain": [
       "0"
      ]
     },
     "execution_count": 26,
     "metadata": {},
     "output_type": "execute_result"
    }
   ],
   "source": [
    "y.isna().sum()"
   ]
  },
  {
   "cell_type": "markdown",
   "metadata": {},
   "source": [
    "### 1.2 Features should be numeric in nature"
   ]
  },
  {
   "cell_type": "code",
   "execution_count": 27,
   "metadata": {},
   "outputs": [
    {
     "data": {
      "text/plain": [
       "season         object\n",
       "yr              int64\n",
       "mnth           object\n",
       "holiday         int64\n",
       "weekday        object\n",
       "workingday      int64\n",
       "weathersit     object\n",
       "temp          float64\n",
       "atemp         float64\n",
       "hum           float64\n",
       "windspeed     float64\n",
       "dtype: object"
      ]
     },
     "execution_count": 27,
     "metadata": {},
     "output_type": "execute_result"
    }
   ],
   "source": [
    "x.dtypes"
   ]
  },
  {
   "cell_type": "markdown",
   "metadata": {},
   "source": [
    "Convert non-numeric values to numeric<br/>\n",
    "In linear regression, i would like to apply dummy encoding to do feature selection "
   ]
  },
  {
   "cell_type": "code",
   "execution_count": 28,
   "metadata": {},
   "outputs": [],
   "source": [
    "string_columns=x.columns[x.dtypes.values=='object']"
   ]
  },
  {
   "cell_type": "code",
   "execution_count": 29,
   "metadata": {},
   "outputs": [],
   "source": [
    "x=pd.get_dummies(x,columns=string_columns,drop_first=True)"
   ]
  },
  {
   "cell_type": "code",
   "execution_count": 30,
   "metadata": {},
   "outputs": [
    {
     "data": {
      "text/plain": [
       "yr                         int64\n",
       "holiday                    int64\n",
       "workingday                 int64\n",
       "temp                     float64\n",
       "atemp                    float64\n",
       "hum                      float64\n",
       "windspeed                float64\n",
       "season_spring              uint8\n",
       "season_summer              uint8\n",
       "season_winter              uint8\n",
       "mnth_Aug                   uint8\n",
       "mnth_Dec                   uint8\n",
       "mnth_Feb                   uint8\n",
       "mnth_Jan                   uint8\n",
       "mnth_July                  uint8\n",
       "mnth_June                  uint8\n",
       "mnth_Mar                   uint8\n",
       "mnth_May                   uint8\n",
       "mnth_Nov                   uint8\n",
       "mnth_Oct                   uint8\n",
       "mnth_Sept                  uint8\n",
       "weekday_Mon                uint8\n",
       "weekday_Sat                uint8\n",
       "weekday_Sun                uint8\n",
       "weekday_Thur               uint8\n",
       "weekday_Tues               uint8\n",
       "weekday_Wed                uint8\n",
       "weathersit_cloudy          uint8\n",
       "weathersit_light rain      uint8\n",
       "dtype: object"
      ]
     },
     "execution_count": 30,
     "metadata": {},
     "output_type": "execute_result"
    }
   ],
   "source": [
    "x.dtypes"
   ]
  },
  {
   "cell_type": "markdown",
   "metadata": {},
   "source": [
    "### 1.3 Features should be of the type array / Dataframe"
   ]
  },
  {
   "cell_type": "code",
   "execution_count": 31,
   "metadata": {},
   "outputs": [
    {
     "data": {
      "text/plain": [
       "pandas.core.frame.DataFrame"
      ]
     },
     "execution_count": 31,
     "metadata": {},
     "output_type": "execute_result"
    }
   ],
   "source": [
    "type(x)"
   ]
  },
  {
   "cell_type": "markdown",
   "metadata": {},
   "source": [
    "### 1.4 Features should have some rows and columns"
   ]
  },
  {
   "cell_type": "code",
   "execution_count": 32,
   "metadata": {},
   "outputs": [
    {
     "data": {
      "text/plain": [
       "(730, 29)"
      ]
     },
     "execution_count": 32,
     "metadata": {},
     "output_type": "execute_result"
    }
   ],
   "source": [
    "x.shape"
   ]
  },
  {
   "cell_type": "markdown",
   "metadata": {},
   "source": [
    "## Step2- Split the dataset into training and testing datasets"
   ]
  },
  {
   "cell_type": "code",
   "execution_count": 33,
   "metadata": {},
   "outputs": [],
   "source": [
    "from sklearn.model_selection import train_test_split"
   ]
  },
  {
   "cell_type": "code",
   "execution_count": 34,
   "metadata": {},
   "outputs": [],
   "source": [
    "x_train,x_test,y_train,y_test=train_test_split(x,y,test_size=0.3,random_state=23)"
   ]
  },
  {
   "cell_type": "markdown",
   "metadata": {},
   "source": [
    "### 2.1 Features should be on the same scale"
   ]
  },
  {
   "cell_type": "code",
   "execution_count": 35,
   "metadata": {},
   "outputs": [
    {
     "data": {
      "text/html": [
       "<div>\n",
       "<style scoped>\n",
       "    .dataframe tbody tr th:only-of-type {\n",
       "        vertical-align: middle;\n",
       "    }\n",
       "\n",
       "    .dataframe tbody tr th {\n",
       "        vertical-align: top;\n",
       "    }\n",
       "\n",
       "    .dataframe thead th {\n",
       "        text-align: right;\n",
       "    }\n",
       "</style>\n",
       "<table border=\"1\" class=\"dataframe\">\n",
       "  <thead>\n",
       "    <tr style=\"text-align: right;\">\n",
       "      <th></th>\n",
       "      <th>yr</th>\n",
       "      <th>holiday</th>\n",
       "      <th>workingday</th>\n",
       "      <th>temp</th>\n",
       "      <th>atemp</th>\n",
       "      <th>hum</th>\n",
       "      <th>windspeed</th>\n",
       "      <th>season_spring</th>\n",
       "      <th>season_summer</th>\n",
       "      <th>season_winter</th>\n",
       "      <th>...</th>\n",
       "      <th>mnth_Oct</th>\n",
       "      <th>mnth_Sept</th>\n",
       "      <th>weekday_Mon</th>\n",
       "      <th>weekday_Sat</th>\n",
       "      <th>weekday_Sun</th>\n",
       "      <th>weekday_Thur</th>\n",
       "      <th>weekday_Tues</th>\n",
       "      <th>weekday_Wed</th>\n",
       "      <th>weathersit_cloudy</th>\n",
       "      <th>weathersit_light rain</th>\n",
       "    </tr>\n",
       "  </thead>\n",
       "  <tbody>\n",
       "    <tr>\n",
       "      <th>0</th>\n",
       "      <td>0</td>\n",
       "      <td>0</td>\n",
       "      <td>0</td>\n",
       "      <td>14.110847</td>\n",
       "      <td>18.18125</td>\n",
       "      <td>80.5833</td>\n",
       "      <td>10.749882</td>\n",
       "      <td>1</td>\n",
       "      <td>0</td>\n",
       "      <td>0</td>\n",
       "      <td>...</td>\n",
       "      <td>0</td>\n",
       "      <td>0</td>\n",
       "      <td>1</td>\n",
       "      <td>0</td>\n",
       "      <td>0</td>\n",
       "      <td>0</td>\n",
       "      <td>0</td>\n",
       "      <td>0</td>\n",
       "      <td>1</td>\n",
       "      <td>0</td>\n",
       "    </tr>\n",
       "    <tr>\n",
       "      <th>1</th>\n",
       "      <td>0</td>\n",
       "      <td>0</td>\n",
       "      <td>0</td>\n",
       "      <td>14.902598</td>\n",
       "      <td>17.68695</td>\n",
       "      <td>69.6087</td>\n",
       "      <td>16.652113</td>\n",
       "      <td>1</td>\n",
       "      <td>0</td>\n",
       "      <td>0</td>\n",
       "      <td>...</td>\n",
       "      <td>0</td>\n",
       "      <td>0</td>\n",
       "      <td>0</td>\n",
       "      <td>0</td>\n",
       "      <td>0</td>\n",
       "      <td>0</td>\n",
       "      <td>1</td>\n",
       "      <td>0</td>\n",
       "      <td>1</td>\n",
       "      <td>0</td>\n",
       "    </tr>\n",
       "    <tr>\n",
       "      <th>2</th>\n",
       "      <td>0</td>\n",
       "      <td>0</td>\n",
       "      <td>1</td>\n",
       "      <td>8.050924</td>\n",
       "      <td>9.47025</td>\n",
       "      <td>43.7273</td>\n",
       "      <td>16.636703</td>\n",
       "      <td>1</td>\n",
       "      <td>0</td>\n",
       "      <td>0</td>\n",
       "      <td>...</td>\n",
       "      <td>0</td>\n",
       "      <td>0</td>\n",
       "      <td>0</td>\n",
       "      <td>0</td>\n",
       "      <td>0</td>\n",
       "      <td>0</td>\n",
       "      <td>0</td>\n",
       "      <td>1</td>\n",
       "      <td>0</td>\n",
       "      <td>0</td>\n",
       "    </tr>\n",
       "    <tr>\n",
       "      <th>3</th>\n",
       "      <td>0</td>\n",
       "      <td>0</td>\n",
       "      <td>1</td>\n",
       "      <td>8.200000</td>\n",
       "      <td>10.60610</td>\n",
       "      <td>59.0435</td>\n",
       "      <td>10.739832</td>\n",
       "      <td>1</td>\n",
       "      <td>0</td>\n",
       "      <td>0</td>\n",
       "      <td>...</td>\n",
       "      <td>0</td>\n",
       "      <td>0</td>\n",
       "      <td>0</td>\n",
       "      <td>0</td>\n",
       "      <td>0</td>\n",
       "      <td>1</td>\n",
       "      <td>0</td>\n",
       "      <td>0</td>\n",
       "      <td>0</td>\n",
       "      <td>0</td>\n",
       "    </tr>\n",
       "    <tr>\n",
       "      <th>4</th>\n",
       "      <td>0</td>\n",
       "      <td>0</td>\n",
       "      <td>1</td>\n",
       "      <td>9.305237</td>\n",
       "      <td>11.46350</td>\n",
       "      <td>43.6957</td>\n",
       "      <td>12.522300</td>\n",
       "      <td>1</td>\n",
       "      <td>0</td>\n",
       "      <td>0</td>\n",
       "      <td>...</td>\n",
       "      <td>0</td>\n",
       "      <td>0</td>\n",
       "      <td>0</td>\n",
       "      <td>0</td>\n",
       "      <td>0</td>\n",
       "      <td>0</td>\n",
       "      <td>0</td>\n",
       "      <td>0</td>\n",
       "      <td>0</td>\n",
       "      <td>0</td>\n",
       "    </tr>\n",
       "  </tbody>\n",
       "</table>\n",
       "<p>5 rows × 29 columns</p>\n",
       "</div>"
      ],
      "text/plain": [
       "   yr  holiday  workingday       temp     atemp      hum  windspeed  \\\n",
       "0   0        0           0  14.110847  18.18125  80.5833  10.749882   \n",
       "1   0        0           0  14.902598  17.68695  69.6087  16.652113   \n",
       "2   0        0           1   8.050924   9.47025  43.7273  16.636703   \n",
       "3   0        0           1   8.200000  10.60610  59.0435  10.739832   \n",
       "4   0        0           1   9.305237  11.46350  43.6957  12.522300   \n",
       "\n",
       "   season_spring  season_summer  season_winter  ...  mnth_Oct  mnth_Sept  \\\n",
       "0              1              0              0  ...         0          0   \n",
       "1              1              0              0  ...         0          0   \n",
       "2              1              0              0  ...         0          0   \n",
       "3              1              0              0  ...         0          0   \n",
       "4              1              0              0  ...         0          0   \n",
       "\n",
       "   weekday_Mon  weekday_Sat  weekday_Sun  weekday_Thur  weekday_Tues  \\\n",
       "0            1            0            0             0             0   \n",
       "1            0            0            0             0             1   \n",
       "2            0            0            0             0             0   \n",
       "3            0            0            0             1             0   \n",
       "4            0            0            0             0             0   \n",
       "\n",
       "   weekday_Wed  weathersit_cloudy  weathersit_light rain  \n",
       "0            0                  1                      0  \n",
       "1            0                  1                      0  \n",
       "2            1                  0                      0  \n",
       "3            0                  0                      0  \n",
       "4            0                  0                      0  \n",
       "\n",
       "[5 rows x 29 columns]"
      ]
     },
     "execution_count": 35,
     "metadata": {},
     "output_type": "execute_result"
    }
   ],
   "source": [
    "x.head()"
   ]
  },
  {
   "cell_type": "code",
   "execution_count": 36,
   "metadata": {},
   "outputs": [],
   "source": [
    "## All the features are not in the same scale so we'll do feature scaling\n",
    "\n",
    "from sklearn.preprocessing import MinMaxScaler\n",
    "scaler=MinMaxScaler()"
   ]
  },
  {
   "cell_type": "code",
   "execution_count": 37,
   "metadata": {},
   "outputs": [
    {
     "name": "stderr",
     "output_type": "stream",
     "text": [
      "<ipython-input-37-b9e96d66dad2>:3: SettingWithCopyWarning: \n",
      "A value is trying to be set on a copy of a slice from a DataFrame.\n",
      "Try using .loc[row_indexer,col_indexer] = value instead\n",
      "\n",
      "See the caveats in the documentation: https://pandas.pydata.org/pandas-docs/stable/user_guide/indexing.html#returning-a-view-versus-a-copy\n",
      "  x_train[x_train.columns]=scaler.fit_transform(x_train[x_train.columns])\n",
      "C:\\Users\\INDIA\\anaconda3\\lib\\site-packages\\pandas\\core\\indexing.py:1736: SettingWithCopyWarning: \n",
      "A value is trying to be set on a copy of a slice from a DataFrame.\n",
      "Try using .loc[row_indexer,col_indexer] = value instead\n",
      "\n",
      "See the caveats in the documentation: https://pandas.pydata.org/pandas-docs/stable/user_guide/indexing.html#returning-a-view-versus-a-copy\n",
      "  isetter(loc, value[:, i].tolist())\n"
     ]
    }
   ],
   "source": [
    "## Convert x_train and x_test from arrays to dataframe so that the indexes will be the same for x nd y\n",
    "\n",
    "x_train[x_train.columns]=scaler.fit_transform(x_train[x_train.columns])"
   ]
  },
  {
   "cell_type": "code",
   "execution_count": 38,
   "metadata": {},
   "outputs": [
    {
     "data": {
      "text/html": [
       "<div>\n",
       "<style scoped>\n",
       "    .dataframe tbody tr th:only-of-type {\n",
       "        vertical-align: middle;\n",
       "    }\n",
       "\n",
       "    .dataframe tbody tr th {\n",
       "        vertical-align: top;\n",
       "    }\n",
       "\n",
       "    .dataframe thead th {\n",
       "        text-align: right;\n",
       "    }\n",
       "</style>\n",
       "<table border=\"1\" class=\"dataframe\">\n",
       "  <thead>\n",
       "    <tr style=\"text-align: right;\">\n",
       "      <th></th>\n",
       "      <th>yr</th>\n",
       "      <th>holiday</th>\n",
       "      <th>workingday</th>\n",
       "      <th>temp</th>\n",
       "      <th>atemp</th>\n",
       "      <th>hum</th>\n",
       "      <th>windspeed</th>\n",
       "      <th>season_spring</th>\n",
       "      <th>season_summer</th>\n",
       "      <th>season_winter</th>\n",
       "      <th>...</th>\n",
       "      <th>mnth_Oct</th>\n",
       "      <th>mnth_Sept</th>\n",
       "      <th>weekday_Mon</th>\n",
       "      <th>weekday_Sat</th>\n",
       "      <th>weekday_Sun</th>\n",
       "      <th>weekday_Thur</th>\n",
       "      <th>weekday_Tues</th>\n",
       "      <th>weekday_Wed</th>\n",
       "      <th>weathersit_cloudy</th>\n",
       "      <th>weathersit_light rain</th>\n",
       "    </tr>\n",
       "  </thead>\n",
       "  <tbody>\n",
       "    <tr>\n",
       "      <th>368</th>\n",
       "      <td>1.0</td>\n",
       "      <td>0.0</td>\n",
       "      <td>1.0</td>\n",
       "      <td>0.013227</td>\n",
       "      <td>0.025139</td>\n",
       "      <td>0.426306</td>\n",
       "      <td>0.334607</td>\n",
       "      <td>1.0</td>\n",
       "      <td>0.0</td>\n",
       "      <td>0.0</td>\n",
       "      <td>...</td>\n",
       "      <td>0.0</td>\n",
       "      <td>0.0</td>\n",
       "      <td>0.0</td>\n",
       "      <td>0.0</td>\n",
       "      <td>0.0</td>\n",
       "      <td>0.0</td>\n",
       "      <td>0.0</td>\n",
       "      <td>0.0</td>\n",
       "      <td>1.0</td>\n",
       "      <td>0.0</td>\n",
       "    </tr>\n",
       "    <tr>\n",
       "      <th>575</th>\n",
       "      <td>1.0</td>\n",
       "      <td>0.0</td>\n",
       "      <td>1.0</td>\n",
       "      <td>0.828813</td>\n",
       "      <td>0.829470</td>\n",
       "      <td>0.687661</td>\n",
       "      <td>0.270528</td>\n",
       "      <td>0.0</td>\n",
       "      <td>0.0</td>\n",
       "      <td>0.0</td>\n",
       "      <td>...</td>\n",
       "      <td>0.0</td>\n",
       "      <td>0.0</td>\n",
       "      <td>0.0</td>\n",
       "      <td>0.0</td>\n",
       "      <td>0.0</td>\n",
       "      <td>0.0</td>\n",
       "      <td>0.0</td>\n",
       "      <td>1.0</td>\n",
       "      <td>0.0</td>\n",
       "      <td>0.0</td>\n",
       "    </tr>\n",
       "  </tbody>\n",
       "</table>\n",
       "<p>2 rows × 29 columns</p>\n",
       "</div>"
      ],
      "text/plain": [
       "      yr  holiday  workingday      temp     atemp       hum  windspeed  \\\n",
       "368  1.0      0.0         1.0  0.013227  0.025139  0.426306   0.334607   \n",
       "575  1.0      0.0         1.0  0.828813  0.829470  0.687661   0.270528   \n",
       "\n",
       "     season_spring  season_summer  season_winter  ...  mnth_Oct  mnth_Sept  \\\n",
       "368            1.0            0.0            0.0  ...       0.0        0.0   \n",
       "575            0.0            0.0            0.0  ...       0.0        0.0   \n",
       "\n",
       "     weekday_Mon  weekday_Sat  weekday_Sun  weekday_Thur  weekday_Tues  \\\n",
       "368          0.0          0.0          0.0           0.0           0.0   \n",
       "575          0.0          0.0          0.0           0.0           0.0   \n",
       "\n",
       "     weekday_Wed  weathersit_cloudy  weathersit_light rain  \n",
       "368          0.0                1.0                    0.0  \n",
       "575          1.0                0.0                    0.0  \n",
       "\n",
       "[2 rows x 29 columns]"
      ]
     },
     "execution_count": 38,
     "metadata": {},
     "output_type": "execute_result"
    }
   ],
   "source": [
    "x_train[x_train.columns].head(2)"
   ]
  },
  {
   "cell_type": "code",
   "execution_count": 39,
   "metadata": {},
   "outputs": [
    {
     "name": "stderr",
     "output_type": "stream",
     "text": [
      "<ipython-input-39-7e4231841edb>:1: SettingWithCopyWarning: \n",
      "A value is trying to be set on a copy of a slice from a DataFrame.\n",
      "Try using .loc[row_indexer,col_indexer] = value instead\n",
      "\n",
      "See the caveats in the documentation: https://pandas.pydata.org/pandas-docs/stable/user_guide/indexing.html#returning-a-view-versus-a-copy\n",
      "  x_test[x_test.columns]=scaler.transform(x_test[x_test.columns])\n",
      "C:\\Users\\INDIA\\anaconda3\\lib\\site-packages\\pandas\\core\\indexing.py:1736: SettingWithCopyWarning: \n",
      "A value is trying to be set on a copy of a slice from a DataFrame.\n",
      "Try using .loc[row_indexer,col_indexer] = value instead\n",
      "\n",
      "See the caveats in the documentation: https://pandas.pydata.org/pandas-docs/stable/user_guide/indexing.html#returning-a-view-versus-a-copy\n",
      "  isetter(loc, value[:, i].tolist())\n"
     ]
    }
   ],
   "source": [
    "x_test[x_test.columns]=scaler.transform(x_test[x_test.columns])"
   ]
  },
  {
   "cell_type": "code",
   "execution_count": 40,
   "metadata": {},
   "outputs": [
    {
     "data": {
      "text/html": [
       "<div>\n",
       "<style scoped>\n",
       "    .dataframe tbody tr th:only-of-type {\n",
       "        vertical-align: middle;\n",
       "    }\n",
       "\n",
       "    .dataframe tbody tr th {\n",
       "        vertical-align: top;\n",
       "    }\n",
       "\n",
       "    .dataframe thead th {\n",
       "        text-align: right;\n",
       "    }\n",
       "</style>\n",
       "<table border=\"1\" class=\"dataframe\">\n",
       "  <thead>\n",
       "    <tr style=\"text-align: right;\">\n",
       "      <th></th>\n",
       "      <th>yr</th>\n",
       "      <th>holiday</th>\n",
       "      <th>workingday</th>\n",
       "      <th>temp</th>\n",
       "      <th>atemp</th>\n",
       "      <th>hum</th>\n",
       "      <th>windspeed</th>\n",
       "      <th>season_spring</th>\n",
       "      <th>season_summer</th>\n",
       "      <th>season_winter</th>\n",
       "      <th>...</th>\n",
       "      <th>mnth_Oct</th>\n",
       "      <th>mnth_Sept</th>\n",
       "      <th>weekday_Mon</th>\n",
       "      <th>weekday_Sat</th>\n",
       "      <th>weekday_Sun</th>\n",
       "      <th>weekday_Thur</th>\n",
       "      <th>weekday_Tues</th>\n",
       "      <th>weekday_Wed</th>\n",
       "      <th>weathersit_cloudy</th>\n",
       "      <th>weathersit_light rain</th>\n",
       "    </tr>\n",
       "  </thead>\n",
       "  <tbody>\n",
       "    <tr>\n",
       "      <th>476</th>\n",
       "      <td>1.0</td>\n",
       "      <td>0.0</td>\n",
       "      <td>0.0</td>\n",
       "      <td>0.391581</td>\n",
       "      <td>0.409305</td>\n",
       "      <td>0.859041</td>\n",
       "      <td>0.664138</td>\n",
       "      <td>0.0</td>\n",
       "      <td>1.0</td>\n",
       "      <td>0.0</td>\n",
       "      <td>...</td>\n",
       "      <td>0.0</td>\n",
       "      <td>0.0</td>\n",
       "      <td>0.0</td>\n",
       "      <td>0.0</td>\n",
       "      <td>0.0</td>\n",
       "      <td>0.0</td>\n",
       "      <td>1.0</td>\n",
       "      <td>0.0</td>\n",
       "      <td>0.0</td>\n",
       "      <td>1.0</td>\n",
       "    </tr>\n",
       "    <tr>\n",
       "      <th>662</th>\n",
       "      <td>1.0</td>\n",
       "      <td>0.0</td>\n",
       "      <td>1.0</td>\n",
       "      <td>0.592206</td>\n",
       "      <td>0.608641</td>\n",
       "      <td>0.823051</td>\n",
       "      <td>0.210244</td>\n",
       "      <td>0.0</td>\n",
       "      <td>0.0</td>\n",
       "      <td>1.0</td>\n",
       "      <td>...</td>\n",
       "      <td>1.0</td>\n",
       "      <td>0.0</td>\n",
       "      <td>0.0</td>\n",
       "      <td>1.0</td>\n",
       "      <td>0.0</td>\n",
       "      <td>0.0</td>\n",
       "      <td>0.0</td>\n",
       "      <td>0.0</td>\n",
       "      <td>1.0</td>\n",
       "      <td>0.0</td>\n",
       "    </tr>\n",
       "  </tbody>\n",
       "</table>\n",
       "<p>2 rows × 29 columns</p>\n",
       "</div>"
      ],
      "text/plain": [
       "      yr  holiday  workingday      temp     atemp       hum  windspeed  \\\n",
       "476  1.0      0.0         0.0  0.391581  0.409305  0.859041   0.664138   \n",
       "662  1.0      0.0         1.0  0.592206  0.608641  0.823051   0.210244   \n",
       "\n",
       "     season_spring  season_summer  season_winter  ...  mnth_Oct  mnth_Sept  \\\n",
       "476            0.0            1.0            0.0  ...       0.0        0.0   \n",
       "662            0.0            0.0            1.0  ...       1.0        0.0   \n",
       "\n",
       "     weekday_Mon  weekday_Sat  weekday_Sun  weekday_Thur  weekday_Tues  \\\n",
       "476          0.0          0.0          0.0           0.0           1.0   \n",
       "662          0.0          1.0          0.0           0.0           0.0   \n",
       "\n",
       "     weekday_Wed  weathersit_cloudy  weathersit_light rain  \n",
       "476          0.0                0.0                    1.0  \n",
       "662          0.0                1.0                    0.0  \n",
       "\n",
       "[2 rows x 29 columns]"
      ]
     },
     "execution_count": 40,
     "metadata": {},
     "output_type": "execute_result"
    }
   ],
   "source": [
    "x_test[x_test.columns].head(2)"
   ]
  },
  {
   "cell_type": "markdown",
   "metadata": {},
   "source": [
    "## Step-3 Train the model on the training dataset"
   ]
  },
  {
   "cell_type": "code",
   "execution_count": 41,
   "metadata": {},
   "outputs": [],
   "source": [
    "## Start with RFE [Recursive Feature Elimintion]\n",
    "## i will give random number of 15 and see how the model perform"
   ]
  },
  {
   "cell_type": "code",
   "execution_count": 42,
   "metadata": {},
   "outputs": [],
   "source": [
    "## import RFE library\n",
    "\n",
    "from sklearn.feature_selection import RFE"
   ]
  },
  {
   "cell_type": "code",
   "execution_count": 43,
   "metadata": {},
   "outputs": [],
   "source": [
    "## RFE works on a model \n",
    "## Use linear regression model \n",
    "\n",
    "from sklearn.linear_model import LinearRegression"
   ]
  },
  {
   "cell_type": "code",
   "execution_count": 44,
   "metadata": {},
   "outputs": [
    {
     "name": "stderr",
     "output_type": "stream",
     "text": [
      "C:\\Users\\INDIA\\anaconda3\\lib\\site-packages\\sklearn\\utils\\validation.py:67: FutureWarning: Pass n_features_to_select=15 as keyword args. From version 0.25 passing these as positional arguments will result in an error\n",
      "  warnings.warn(\"Pass {} as keyword args. From version 0.25 \"\n"
     ]
    },
    {
     "data": {
      "text/plain": [
       "RFE(estimator=LinearRegression(), n_features_to_select=15)"
      ]
     },
     "execution_count": 44,
     "metadata": {},
     "output_type": "execute_result"
    }
   ],
   "source": [
    "lm=LinearRegression()\n",
    "rfe=RFE(lm,15)\n",
    "rfe.fit(x_train,y_train)"
   ]
  },
  {
   "cell_type": "code",
   "execution_count": 45,
   "metadata": {},
   "outputs": [
    {
     "data": {
      "text/plain": [
       "array([ True,  True, False,  True,  True,  True,  True,  True, False,\n",
       "        True, False,  True, False, False,  True, False, False, False,\n",
       "        True, False,  True,  True, False, False, False, False, False,\n",
       "        True,  True])"
      ]
     },
     "execution_count": 45,
     "metadata": {},
     "output_type": "execute_result"
    }
   ],
   "source": [
    "## To know which of the columns that have included in the top 15\n",
    "\n",
    "rfe.support_"
   ]
  },
  {
   "cell_type": "code",
   "execution_count": 46,
   "metadata": {},
   "outputs": [],
   "source": [
    "## import statsmodels library"
   ]
  },
  {
   "cell_type": "code",
   "execution_count": 47,
   "metadata": {},
   "outputs": [],
   "source": [
    "import statsmodels.api as sm"
   ]
  },
  {
   "cell_type": "code",
   "execution_count": 48,
   "metadata": {},
   "outputs": [],
   "source": [
    "col=x_train.columns[rfe.support_]  ## Gives the column names"
   ]
  },
  {
   "cell_type": "code",
   "execution_count": 49,
   "metadata": {},
   "outputs": [
    {
     "data": {
      "text/plain": [
       "Index(['yr', 'holiday', 'temp', 'atemp', 'hum', 'windspeed', 'season_spring',\n",
       "       'season_winter', 'mnth_Dec', 'mnth_July', 'mnth_Nov', 'mnth_Sept',\n",
       "       'weekday_Mon', 'weathersit_cloudy', 'weathersit_light rain'],\n",
       "      dtype='object')"
      ]
     },
     "execution_count": 49,
     "metadata": {},
     "output_type": "execute_result"
    }
   ],
   "source": [
    "col"
   ]
  },
  {
   "cell_type": "code",
   "execution_count": 50,
   "metadata": {},
   "outputs": [],
   "source": [
    "x_train_rfe=x_train[col]  ## fetch only those columns from x_train"
   ]
  },
  {
   "cell_type": "code",
   "execution_count": 51,
   "metadata": {},
   "outputs": [
    {
     "data": {
      "text/html": [
       "<div>\n",
       "<style scoped>\n",
       "    .dataframe tbody tr th:only-of-type {\n",
       "        vertical-align: middle;\n",
       "    }\n",
       "\n",
       "    .dataframe tbody tr th {\n",
       "        vertical-align: top;\n",
       "    }\n",
       "\n",
       "    .dataframe thead th {\n",
       "        text-align: right;\n",
       "    }\n",
       "</style>\n",
       "<table border=\"1\" class=\"dataframe\">\n",
       "  <thead>\n",
       "    <tr style=\"text-align: right;\">\n",
       "      <th></th>\n",
       "      <th>yr</th>\n",
       "      <th>holiday</th>\n",
       "      <th>temp</th>\n",
       "      <th>atemp</th>\n",
       "      <th>hum</th>\n",
       "      <th>windspeed</th>\n",
       "      <th>season_spring</th>\n",
       "      <th>season_winter</th>\n",
       "      <th>mnth_Dec</th>\n",
       "      <th>mnth_July</th>\n",
       "      <th>mnth_Nov</th>\n",
       "      <th>mnth_Sept</th>\n",
       "      <th>weekday_Mon</th>\n",
       "      <th>weathersit_cloudy</th>\n",
       "      <th>weathersit_light rain</th>\n",
       "    </tr>\n",
       "  </thead>\n",
       "  <tbody>\n",
       "    <tr>\n",
       "      <th>368</th>\n",
       "      <td>1.0</td>\n",
       "      <td>0.0</td>\n",
       "      <td>0.013227</td>\n",
       "      <td>0.025139</td>\n",
       "      <td>0.426306</td>\n",
       "      <td>0.334607</td>\n",
       "      <td>1.0</td>\n",
       "      <td>0.0</td>\n",
       "      <td>0.0</td>\n",
       "      <td>0.0</td>\n",
       "      <td>0.0</td>\n",
       "      <td>0.0</td>\n",
       "      <td>0.0</td>\n",
       "      <td>1.0</td>\n",
       "      <td>0.0</td>\n",
       "    </tr>\n",
       "    <tr>\n",
       "      <th>575</th>\n",
       "      <td>1.0</td>\n",
       "      <td>0.0</td>\n",
       "      <td>0.828813</td>\n",
       "      <td>0.829470</td>\n",
       "      <td>0.687661</td>\n",
       "      <td>0.270528</td>\n",
       "      <td>0.0</td>\n",
       "      <td>0.0</td>\n",
       "      <td>0.0</td>\n",
       "      <td>1.0</td>\n",
       "      <td>0.0</td>\n",
       "      <td>0.0</td>\n",
       "      <td>0.0</td>\n",
       "      <td>0.0</td>\n",
       "      <td>0.0</td>\n",
       "    </tr>\n",
       "    <tr>\n",
       "      <th>604</th>\n",
       "      <td>1.0</td>\n",
       "      <td>0.0</td>\n",
       "      <td>0.825542</td>\n",
       "      <td>0.802542</td>\n",
       "      <td>0.637532</td>\n",
       "      <td>0.347440</td>\n",
       "      <td>0.0</td>\n",
       "      <td>0.0</td>\n",
       "      <td>0.0</td>\n",
       "      <td>0.0</td>\n",
       "      <td>0.0</td>\n",
       "      <td>0.0</td>\n",
       "      <td>0.0</td>\n",
       "      <td>0.0</td>\n",
       "      <td>0.0</td>\n",
       "    </tr>\n",
       "    <tr>\n",
       "      <th>114</th>\n",
       "      <td>0.0</td>\n",
       "      <td>0.0</td>\n",
       "      <td>0.666351</td>\n",
       "      <td>0.672362</td>\n",
       "      <td>0.798629</td>\n",
       "      <td>0.335912</td>\n",
       "      <td>0.0</td>\n",
       "      <td>0.0</td>\n",
       "      <td>0.0</td>\n",
       "      <td>0.0</td>\n",
       "      <td>0.0</td>\n",
       "      <td>0.0</td>\n",
       "      <td>0.0</td>\n",
       "      <td>0.0</td>\n",
       "      <td>0.0</td>\n",
       "    </tr>\n",
       "    <tr>\n",
       "      <th>663</th>\n",
       "      <td>1.0</td>\n",
       "      <td>0.0</td>\n",
       "      <td>0.586754</td>\n",
       "      <td>0.598776</td>\n",
       "      <td>0.829905</td>\n",
       "      <td>0.226926</td>\n",
       "      <td>0.0</td>\n",
       "      <td>1.0</td>\n",
       "      <td>0.0</td>\n",
       "      <td>0.0</td>\n",
       "      <td>0.0</td>\n",
       "      <td>0.0</td>\n",
       "      <td>0.0</td>\n",
       "      <td>1.0</td>\n",
       "      <td>0.0</td>\n",
       "    </tr>\n",
       "  </tbody>\n",
       "</table>\n",
       "</div>"
      ],
      "text/plain": [
       "      yr  holiday      temp     atemp       hum  windspeed  season_spring  \\\n",
       "368  1.0      0.0  0.013227  0.025139  0.426306   0.334607            1.0   \n",
       "575  1.0      0.0  0.828813  0.829470  0.687661   0.270528            0.0   \n",
       "604  1.0      0.0  0.825542  0.802542  0.637532   0.347440            0.0   \n",
       "114  0.0      0.0  0.666351  0.672362  0.798629   0.335912            0.0   \n",
       "663  1.0      0.0  0.586754  0.598776  0.829905   0.226926            0.0   \n",
       "\n",
       "     season_winter  mnth_Dec  mnth_July  mnth_Nov  mnth_Sept  weekday_Mon  \\\n",
       "368            0.0       0.0        0.0       0.0        0.0          0.0   \n",
       "575            0.0       0.0        1.0       0.0        0.0          0.0   \n",
       "604            0.0       0.0        0.0       0.0        0.0          0.0   \n",
       "114            0.0       0.0        0.0       0.0        0.0          0.0   \n",
       "663            1.0       0.0        0.0       0.0        0.0          0.0   \n",
       "\n",
       "     weathersit_cloudy  weathersit_light rain  \n",
       "368                1.0                    0.0  \n",
       "575                0.0                    0.0  \n",
       "604                0.0                    0.0  \n",
       "114                0.0                    0.0  \n",
       "663                1.0                    0.0  "
      ]
     },
     "execution_count": 51,
     "metadata": {},
     "output_type": "execute_result"
    }
   ],
   "source": [
    "x_train_rfe.head()"
   ]
  },
  {
   "cell_type": "code",
   "execution_count": 52,
   "metadata": {},
   "outputs": [],
   "source": [
    "## I have to give intercept in statsmodel so add constant value \n",
    "\n",
    "x_train_rfe=sm.add_constant(x_train_rfe)"
   ]
  },
  {
   "cell_type": "code",
   "execution_count": 53,
   "metadata": {},
   "outputs": [
    {
     "data": {
      "text/html": [
       "<div>\n",
       "<style scoped>\n",
       "    .dataframe tbody tr th:only-of-type {\n",
       "        vertical-align: middle;\n",
       "    }\n",
       "\n",
       "    .dataframe tbody tr th {\n",
       "        vertical-align: top;\n",
       "    }\n",
       "\n",
       "    .dataframe thead th {\n",
       "        text-align: right;\n",
       "    }\n",
       "</style>\n",
       "<table border=\"1\" class=\"dataframe\">\n",
       "  <thead>\n",
       "    <tr style=\"text-align: right;\">\n",
       "      <th></th>\n",
       "      <th>const</th>\n",
       "      <th>yr</th>\n",
       "      <th>holiday</th>\n",
       "      <th>temp</th>\n",
       "      <th>atemp</th>\n",
       "      <th>hum</th>\n",
       "      <th>windspeed</th>\n",
       "      <th>season_spring</th>\n",
       "      <th>season_winter</th>\n",
       "      <th>mnth_Dec</th>\n",
       "      <th>mnth_July</th>\n",
       "      <th>mnth_Nov</th>\n",
       "      <th>mnth_Sept</th>\n",
       "      <th>weekday_Mon</th>\n",
       "      <th>weathersit_cloudy</th>\n",
       "      <th>weathersit_light rain</th>\n",
       "    </tr>\n",
       "  </thead>\n",
       "  <tbody>\n",
       "    <tr>\n",
       "      <th>368</th>\n",
       "      <td>1.0</td>\n",
       "      <td>1.0</td>\n",
       "      <td>0.0</td>\n",
       "      <td>0.013227</td>\n",
       "      <td>0.025139</td>\n",
       "      <td>0.426306</td>\n",
       "      <td>0.334607</td>\n",
       "      <td>1.0</td>\n",
       "      <td>0.0</td>\n",
       "      <td>0.0</td>\n",
       "      <td>0.0</td>\n",
       "      <td>0.0</td>\n",
       "      <td>0.0</td>\n",
       "      <td>0.0</td>\n",
       "      <td>1.0</td>\n",
       "      <td>0.0</td>\n",
       "    </tr>\n",
       "    <tr>\n",
       "      <th>575</th>\n",
       "      <td>1.0</td>\n",
       "      <td>1.0</td>\n",
       "      <td>0.0</td>\n",
       "      <td>0.828813</td>\n",
       "      <td>0.829470</td>\n",
       "      <td>0.687661</td>\n",
       "      <td>0.270528</td>\n",
       "      <td>0.0</td>\n",
       "      <td>0.0</td>\n",
       "      <td>0.0</td>\n",
       "      <td>1.0</td>\n",
       "      <td>0.0</td>\n",
       "      <td>0.0</td>\n",
       "      <td>0.0</td>\n",
       "      <td>0.0</td>\n",
       "      <td>0.0</td>\n",
       "    </tr>\n",
       "    <tr>\n",
       "      <th>604</th>\n",
       "      <td>1.0</td>\n",
       "      <td>1.0</td>\n",
       "      <td>0.0</td>\n",
       "      <td>0.825542</td>\n",
       "      <td>0.802542</td>\n",
       "      <td>0.637532</td>\n",
       "      <td>0.347440</td>\n",
       "      <td>0.0</td>\n",
       "      <td>0.0</td>\n",
       "      <td>0.0</td>\n",
       "      <td>0.0</td>\n",
       "      <td>0.0</td>\n",
       "      <td>0.0</td>\n",
       "      <td>0.0</td>\n",
       "      <td>0.0</td>\n",
       "      <td>0.0</td>\n",
       "    </tr>\n",
       "    <tr>\n",
       "      <th>114</th>\n",
       "      <td>1.0</td>\n",
       "      <td>0.0</td>\n",
       "      <td>0.0</td>\n",
       "      <td>0.666351</td>\n",
       "      <td>0.672362</td>\n",
       "      <td>0.798629</td>\n",
       "      <td>0.335912</td>\n",
       "      <td>0.0</td>\n",
       "      <td>0.0</td>\n",
       "      <td>0.0</td>\n",
       "      <td>0.0</td>\n",
       "      <td>0.0</td>\n",
       "      <td>0.0</td>\n",
       "      <td>0.0</td>\n",
       "      <td>0.0</td>\n",
       "      <td>0.0</td>\n",
       "    </tr>\n",
       "    <tr>\n",
       "      <th>663</th>\n",
       "      <td>1.0</td>\n",
       "      <td>1.0</td>\n",
       "      <td>0.0</td>\n",
       "      <td>0.586754</td>\n",
       "      <td>0.598776</td>\n",
       "      <td>0.829905</td>\n",
       "      <td>0.226926</td>\n",
       "      <td>0.0</td>\n",
       "      <td>1.0</td>\n",
       "      <td>0.0</td>\n",
       "      <td>0.0</td>\n",
       "      <td>0.0</td>\n",
       "      <td>0.0</td>\n",
       "      <td>0.0</td>\n",
       "      <td>1.0</td>\n",
       "      <td>0.0</td>\n",
       "    </tr>\n",
       "  </tbody>\n",
       "</table>\n",
       "</div>"
      ],
      "text/plain": [
       "     const   yr  holiday      temp     atemp       hum  windspeed  \\\n",
       "368    1.0  1.0      0.0  0.013227  0.025139  0.426306   0.334607   \n",
       "575    1.0  1.0      0.0  0.828813  0.829470  0.687661   0.270528   \n",
       "604    1.0  1.0      0.0  0.825542  0.802542  0.637532   0.347440   \n",
       "114    1.0  0.0      0.0  0.666351  0.672362  0.798629   0.335912   \n",
       "663    1.0  1.0      0.0  0.586754  0.598776  0.829905   0.226926   \n",
       "\n",
       "     season_spring  season_winter  mnth_Dec  mnth_July  mnth_Nov  mnth_Sept  \\\n",
       "368            1.0            0.0       0.0        0.0       0.0        0.0   \n",
       "575            0.0            0.0       0.0        1.0       0.0        0.0   \n",
       "604            0.0            0.0       0.0        0.0       0.0        0.0   \n",
       "114            0.0            0.0       0.0        0.0       0.0        0.0   \n",
       "663            0.0            1.0       0.0        0.0       0.0        0.0   \n",
       "\n",
       "     weekday_Mon  weathersit_cloudy  weathersit_light rain  \n",
       "368          0.0                1.0                    0.0  \n",
       "575          0.0                0.0                    0.0  \n",
       "604          0.0                0.0                    0.0  \n",
       "114          0.0                0.0                    0.0  \n",
       "663          0.0                1.0                    0.0  "
      ]
     },
     "execution_count": 53,
     "metadata": {},
     "output_type": "execute_result"
    }
   ],
   "source": [
    "x_train_rfe.head()"
   ]
  },
  {
   "cell_type": "code",
   "execution_count": 54,
   "metadata": {},
   "outputs": [
    {
     "data": {
      "text/html": [
       "<table class=\"simpletable\">\n",
       "<caption>OLS Regression Results</caption>\n",
       "<tr>\n",
       "  <th>Dep. Variable:</th>           <td>cnt</td>       <th>  R-squared:         </th> <td>   0.852</td> \n",
       "</tr>\n",
       "<tr>\n",
       "  <th>Model:</th>                   <td>OLS</td>       <th>  Adj. R-squared:    </th> <td>   0.847</td> \n",
       "</tr>\n",
       "<tr>\n",
       "  <th>Method:</th>             <td>Least Squares</td>  <th>  F-statistic:       </th> <td>   189.3</td> \n",
       "</tr>\n",
       "<tr>\n",
       "  <th>Date:</th>             <td>Thu, 24 Jun 2021</td> <th>  Prob (F-statistic):</th> <td>6.90e-194</td>\n",
       "</tr>\n",
       "<tr>\n",
       "  <th>Time:</th>                 <td>10:30:40</td>     <th>  Log-Likelihood:    </th> <td> -4117.9</td> \n",
       "</tr>\n",
       "<tr>\n",
       "  <th>No. Observations:</th>      <td>   511</td>      <th>  AIC:               </th> <td>   8268.</td> \n",
       "</tr>\n",
       "<tr>\n",
       "  <th>Df Residuals:</th>          <td>   495</td>      <th>  BIC:               </th> <td>   8336.</td> \n",
       "</tr>\n",
       "<tr>\n",
       "  <th>Df Model:</th>              <td>    15</td>      <th>                     </th>     <td> </td>    \n",
       "</tr>\n",
       "<tr>\n",
       "  <th>Covariance Type:</th>      <td>nonrobust</td>    <th>                     </th>     <td> </td>    \n",
       "</tr>\n",
       "</table>\n",
       "<table class=\"simpletable\">\n",
       "<tr>\n",
       "            <td></td>               <th>coef</th>     <th>std err</th>      <th>t</th>      <th>P>|t|</th>  <th>[0.025</th>    <th>0.975]</th>  \n",
       "</tr>\n",
       "<tr>\n",
       "  <th>const</th>                 <td> 3358.9564</td> <td>  282.677</td> <td>   11.883</td> <td> 0.000</td> <td> 2803.563</td> <td> 3914.350</td>\n",
       "</tr>\n",
       "<tr>\n",
       "  <th>yr</th>                    <td> 2014.7603</td> <td>   70.505</td> <td>   28.576</td> <td> 0.000</td> <td> 1876.234</td> <td> 2153.287</td>\n",
       "</tr>\n",
       "<tr>\n",
       "  <th>holiday</th>               <td> -867.9570</td> <td>  229.073</td> <td>   -3.789</td> <td> 0.000</td> <td>-1318.032</td> <td> -417.882</td>\n",
       "</tr>\n",
       "<tr>\n",
       "  <th>temp</th>                  <td>-1883.1971</td> <td> 1947.001</td> <td>   -0.967</td> <td> 0.334</td> <td>-5708.602</td> <td> 1942.207</td>\n",
       "</tr>\n",
       "<tr>\n",
       "  <th>atemp</th>                 <td> 6043.3740</td> <td> 2008.999</td> <td>    3.008</td> <td> 0.003</td> <td> 2096.156</td> <td> 9990.592</td>\n",
       "</tr>\n",
       "<tr>\n",
       "  <th>hum</th>                   <td>-1987.3596</td> <td>  336.921</td> <td>   -5.899</td> <td> 0.000</td> <td>-2649.332</td> <td>-1325.387</td>\n",
       "</tr>\n",
       "<tr>\n",
       "  <th>windspeed</th>             <td>-1420.6034</td> <td>  240.042</td> <td>   -5.918</td> <td> 0.000</td> <td>-1892.230</td> <td> -948.977</td>\n",
       "</tr>\n",
       "<tr>\n",
       "  <th>season_spring</th>         <td> -985.5302</td> <td>  133.006</td> <td>   -7.410</td> <td> 0.000</td> <td>-1246.857</td> <td> -724.204</td>\n",
       "</tr>\n",
       "<tr>\n",
       "  <th>season_winter</th>         <td>  722.3095</td> <td>  115.348</td> <td>    6.262</td> <td> 0.000</td> <td>  495.678</td> <td>  948.941</td>\n",
       "</tr>\n",
       "<tr>\n",
       "  <th>mnth_Dec</th>              <td> -465.5256</td> <td>  140.782</td> <td>   -3.307</td> <td> 0.001</td> <td> -742.129</td> <td> -188.923</td>\n",
       "</tr>\n",
       "<tr>\n",
       "  <th>mnth_July</th>             <td> -677.1670</td> <td>  148.070</td> <td>   -4.573</td> <td> 0.000</td> <td> -968.090</td> <td> -386.244</td>\n",
       "</tr>\n",
       "<tr>\n",
       "  <th>mnth_Nov</th>              <td> -408.6422</td> <td>  152.884</td> <td>   -2.673</td> <td> 0.008</td> <td> -709.024</td> <td> -108.260</td>\n",
       "</tr>\n",
       "<tr>\n",
       "  <th>mnth_Sept</th>             <td>  596.7371</td> <td>  134.128</td> <td>    4.449</td> <td> 0.000</td> <td>  333.207</td> <td>  860.267</td>\n",
       "</tr>\n",
       "<tr>\n",
       "  <th>weekday_Mon</th>           <td>  229.2318</td> <td>  100.787</td> <td>    2.274</td> <td> 0.023</td> <td>   31.208</td> <td>  427.255</td>\n",
       "</tr>\n",
       "<tr>\n",
       "  <th>weathersit_cloudy</th>     <td> -355.2190</td> <td>   93.561</td> <td>   -3.797</td> <td> 0.000</td> <td> -539.045</td> <td> -171.393</td>\n",
       "</tr>\n",
       "<tr>\n",
       "  <th>weathersit_light rain</th> <td>-2498.6473</td> <td>  294.066</td> <td>   -8.497</td> <td> 0.000</td> <td>-3076.419</td> <td>-1920.875</td>\n",
       "</tr>\n",
       "</table>\n",
       "<table class=\"simpletable\">\n",
       "<tr>\n",
       "  <th>Omnibus:</th>       <td>84.767</td> <th>  Durbin-Watson:     </th> <td>   2.070</td>\n",
       "</tr>\n",
       "<tr>\n",
       "  <th>Prob(Omnibus):</th> <td> 0.000</td> <th>  Jarque-Bera (JB):  </th> <td> 207.595</td>\n",
       "</tr>\n",
       "<tr>\n",
       "  <th>Skew:</th>          <td>-0.849</td> <th>  Prob(JB):          </th> <td>8.34e-46</td>\n",
       "</tr>\n",
       "<tr>\n",
       "  <th>Kurtosis:</th>      <td> 5.621</td> <th>  Cond. No.          </th> <td>    133.</td>\n",
       "</tr>\n",
       "</table><br/><br/>Notes:<br/>[1] Standard Errors assume that the covariance matrix of the errors is correctly specified."
      ],
      "text/plain": [
       "<class 'statsmodels.iolib.summary.Summary'>\n",
       "\"\"\"\n",
       "                            OLS Regression Results                            \n",
       "==============================================================================\n",
       "Dep. Variable:                    cnt   R-squared:                       0.852\n",
       "Model:                            OLS   Adj. R-squared:                  0.847\n",
       "Method:                 Least Squares   F-statistic:                     189.3\n",
       "Date:                Thu, 24 Jun 2021   Prob (F-statistic):          6.90e-194\n",
       "Time:                        10:30:40   Log-Likelihood:                -4117.9\n",
       "No. Observations:                 511   AIC:                             8268.\n",
       "Df Residuals:                     495   BIC:                             8336.\n",
       "Df Model:                          15                                         \n",
       "Covariance Type:            nonrobust                                         \n",
       "=========================================================================================\n",
       "                            coef    std err          t      P>|t|      [0.025      0.975]\n",
       "-----------------------------------------------------------------------------------------\n",
       "const                  3358.9564    282.677     11.883      0.000    2803.563    3914.350\n",
       "yr                     2014.7603     70.505     28.576      0.000    1876.234    2153.287\n",
       "holiday                -867.9570    229.073     -3.789      0.000   -1318.032    -417.882\n",
       "temp                  -1883.1971   1947.001     -0.967      0.334   -5708.602    1942.207\n",
       "atemp                  6043.3740   2008.999      3.008      0.003    2096.156    9990.592\n",
       "hum                   -1987.3596    336.921     -5.899      0.000   -2649.332   -1325.387\n",
       "windspeed             -1420.6034    240.042     -5.918      0.000   -1892.230    -948.977\n",
       "season_spring          -985.5302    133.006     -7.410      0.000   -1246.857    -724.204\n",
       "season_winter           722.3095    115.348      6.262      0.000     495.678     948.941\n",
       "mnth_Dec               -465.5256    140.782     -3.307      0.001    -742.129    -188.923\n",
       "mnth_July              -677.1670    148.070     -4.573      0.000    -968.090    -386.244\n",
       "mnth_Nov               -408.6422    152.884     -2.673      0.008    -709.024    -108.260\n",
       "mnth_Sept               596.7371    134.128      4.449      0.000     333.207     860.267\n",
       "weekday_Mon             229.2318    100.787      2.274      0.023      31.208     427.255\n",
       "weathersit_cloudy      -355.2190     93.561     -3.797      0.000    -539.045    -171.393\n",
       "weathersit_light rain -2498.6473    294.066     -8.497      0.000   -3076.419   -1920.875\n",
       "==============================================================================\n",
       "Omnibus:                       84.767   Durbin-Watson:                   2.070\n",
       "Prob(Omnibus):                  0.000   Jarque-Bera (JB):              207.595\n",
       "Skew:                          -0.849   Prob(JB):                     8.34e-46\n",
       "Kurtosis:                       5.621   Cond. No.                         133.\n",
       "==============================================================================\n",
       "\n",
       "Notes:\n",
       "[1] Standard Errors assume that the covariance matrix of the errors is correctly specified.\n",
       "\"\"\""
      ]
     },
     "execution_count": 54,
     "metadata": {},
     "output_type": "execute_result"
    }
   ],
   "source": [
    "## Perform Linear Regression\n",
    "\n",
    "lm=sm.OLS(y_train,x_train_rfe).fit()\n",
    "lm.summary()"
   ]
  },
  {
   "cell_type": "code",
   "execution_count": 55,
   "metadata": {},
   "outputs": [],
   "source": [
    "## Drop the constant from x_train_rfe because it is not a feature, we added it\n",
    "\n",
    "a=x_train_rfe.drop('const',axis=1)"
   ]
  },
  {
   "cell_type": "code",
   "execution_count": 56,
   "metadata": {},
   "outputs": [
    {
     "data": {
      "text/plain": [
       "Index(['yr', 'holiday', 'temp', 'atemp', 'hum', 'windspeed', 'season_spring',\n",
       "       'season_winter', 'mnth_Dec', 'mnth_July', 'mnth_Nov', 'mnth_Sept',\n",
       "       'weekday_Mon', 'weathersit_cloudy', 'weathersit_light rain'],\n",
       "      dtype='object')"
      ]
     },
     "execution_count": 56,
     "metadata": {},
     "output_type": "execute_result"
    }
   ],
   "source": [
    "a.columns"
   ]
  },
  {
   "cell_type": "markdown",
   "metadata": {},
   "source": [
    "# VIF (Variance Inflation Factor)"
   ]
  },
  {
   "cell_type": "code",
   "execution_count": 57,
   "metadata": {},
   "outputs": [],
   "source": [
    "## import VIF library from statsmodels\n",
    "\n",
    "from statsmodels.stats.outliers_influence import variance_inflation_factor"
   ]
  },
  {
   "cell_type": "code",
   "execution_count": 58,
   "metadata": {},
   "outputs": [],
   "source": [
    "## Calculate VIF\n",
    "\n",
    "## I would like to use a list comprehension just to make a code concise"
   ]
  },
  {
   "cell_type": "code",
   "execution_count": 59,
   "metadata": {},
   "outputs": [
    {
     "data": {
      "text/html": [
       "<div>\n",
       "<style scoped>\n",
       "    .dataframe tbody tr th:only-of-type {\n",
       "        vertical-align: middle;\n",
       "    }\n",
       "\n",
       "    .dataframe tbody tr th {\n",
       "        vertical-align: top;\n",
       "    }\n",
       "\n",
       "    .dataframe thead th {\n",
       "        text-align: right;\n",
       "    }\n",
       "</style>\n",
       "<table border=\"1\" class=\"dataframe\">\n",
       "  <thead>\n",
       "    <tr style=\"text-align: right;\">\n",
       "      <th></th>\n",
       "      <th>Features</th>\n",
       "      <th>VIF</th>\n",
       "    </tr>\n",
       "  </thead>\n",
       "  <tbody>\n",
       "    <tr>\n",
       "      <th>3</th>\n",
       "      <td>atemp</td>\n",
       "      <td>1087.13</td>\n",
       "    </tr>\n",
       "    <tr>\n",
       "      <th>2</th>\n",
       "      <td>temp</td>\n",
       "      <td>1022.93</td>\n",
       "    </tr>\n",
       "    <tr>\n",
       "      <th>4</th>\n",
       "      <td>hum</td>\n",
       "      <td>25.64</td>\n",
       "    </tr>\n",
       "    <tr>\n",
       "      <th>5</th>\n",
       "      <td>windspeed</td>\n",
       "      <td>4.74</td>\n",
       "    </tr>\n",
       "    <tr>\n",
       "      <th>7</th>\n",
       "      <td>season_winter</td>\n",
       "      <td>2.87</td>\n",
       "    </tr>\n",
       "    <tr>\n",
       "      <th>6</th>\n",
       "      <td>season_spring</td>\n",
       "      <td>2.74</td>\n",
       "    </tr>\n",
       "    <tr>\n",
       "      <th>13</th>\n",
       "      <td>weathersit_cloudy</td>\n",
       "      <td>2.47</td>\n",
       "    </tr>\n",
       "    <tr>\n",
       "      <th>0</th>\n",
       "      <td>yr</td>\n",
       "      <td>2.05</td>\n",
       "    </tr>\n",
       "    <tr>\n",
       "      <th>10</th>\n",
       "      <td>mnth_Nov</td>\n",
       "      <td>1.79</td>\n",
       "    </tr>\n",
       "    <tr>\n",
       "      <th>9</th>\n",
       "      <td>mnth_July</td>\n",
       "      <td>1.42</td>\n",
       "    </tr>\n",
       "    <tr>\n",
       "      <th>8</th>\n",
       "      <td>mnth_Dec</td>\n",
       "      <td>1.39</td>\n",
       "    </tr>\n",
       "    <tr>\n",
       "      <th>11</th>\n",
       "      <td>mnth_Sept</td>\n",
       "      <td>1.22</td>\n",
       "    </tr>\n",
       "    <tr>\n",
       "      <th>12</th>\n",
       "      <td>weekday_Mon</td>\n",
       "      <td>1.18</td>\n",
       "    </tr>\n",
       "    <tr>\n",
       "      <th>14</th>\n",
       "      <td>weathersit_light rain</td>\n",
       "      <td>1.12</td>\n",
       "    </tr>\n",
       "    <tr>\n",
       "      <th>1</th>\n",
       "      <td>holiday</td>\n",
       "      <td>1.04</td>\n",
       "    </tr>\n",
       "  </tbody>\n",
       "</table>\n",
       "</div>"
      ],
      "text/plain": [
       "                 Features      VIF\n",
       "3                   atemp  1087.13\n",
       "2                    temp  1022.93\n",
       "4                     hum    25.64\n",
       "5               windspeed     4.74\n",
       "7           season_winter     2.87\n",
       "6           season_spring     2.74\n",
       "13      weathersit_cloudy     2.47\n",
       "0                      yr     2.05\n",
       "10               mnth_Nov     1.79\n",
       "9               mnth_July     1.42\n",
       "8                mnth_Dec     1.39\n",
       "11              mnth_Sept     1.22\n",
       "12            weekday_Mon     1.18\n",
       "14  weathersit_light rain     1.12\n",
       "1                 holiday     1.04"
      ]
     },
     "execution_count": 59,
     "metadata": {},
     "output_type": "execute_result"
    }
   ],
   "source": [
    "vif=pd.DataFrame()\n",
    "vif[\"Features\"]=a.columns\n",
    "vif[\"VIF\"]=[ variance_inflation_factor(a.values,i) for i in range(a.shape[1])]\n",
    "vif[\"VIF\"]= round(vif[\"VIF\"],2)\n",
    "vif.sort_values(by = \"VIF\",ascending=False)"
   ]
  },
  {
   "cell_type": "code",
   "execution_count": 60,
   "metadata": {},
   "outputs": [],
   "source": [
    "## Drop the column that is havong both bad p-Value and bad VIF value\n",
    "\n",
    "a.drop('temp',axis=1,inplace=True)\n",
    "col=a.columns"
   ]
  },
  {
   "cell_type": "code",
   "execution_count": 61,
   "metadata": {},
   "outputs": [
    {
     "data": {
      "text/html": [
       "<table class=\"simpletable\">\n",
       "<caption>OLS Regression Results</caption>\n",
       "<tr>\n",
       "  <th>Dep. Variable:</th>           <td>cnt</td>       <th>  R-squared:         </th> <td>   0.851</td> \n",
       "</tr>\n",
       "<tr>\n",
       "  <th>Model:</th>                   <td>OLS</td>       <th>  Adj. R-squared:    </th> <td>   0.847</td> \n",
       "</tr>\n",
       "<tr>\n",
       "  <th>Method:</th>             <td>Least Squares</td>  <th>  F-statistic:       </th> <td>   202.8</td> \n",
       "</tr>\n",
       "<tr>\n",
       "  <th>Date:</th>             <td>Thu, 24 Jun 2021</td> <th>  Prob (F-statistic):</th> <td>7.57e-195</td>\n",
       "</tr>\n",
       "<tr>\n",
       "  <th>Time:</th>                 <td>10:30:41</td>     <th>  Log-Likelihood:    </th> <td> -4118.4</td> \n",
       "</tr>\n",
       "<tr>\n",
       "  <th>No. Observations:</th>      <td>   511</td>      <th>  AIC:               </th> <td>   8267.</td> \n",
       "</tr>\n",
       "<tr>\n",
       "  <th>Df Residuals:</th>          <td>   496</td>      <th>  BIC:               </th> <td>   8330.</td> \n",
       "</tr>\n",
       "<tr>\n",
       "  <th>Df Model:</th>              <td>    14</td>      <th>                     </th>     <td> </td>    \n",
       "</tr>\n",
       "<tr>\n",
       "  <th>Covariance Type:</th>      <td>nonrobust</td>    <th>                     </th>     <td> </td>    \n",
       "</tr>\n",
       "</table>\n",
       "<table class=\"simpletable\">\n",
       "<tr>\n",
       "            <td></td>               <th>coef</th>     <th>std err</th>      <th>t</th>      <th>P>|t|</th>  <th>[0.025</th>    <th>0.975]</th>  \n",
       "</tr>\n",
       "<tr>\n",
       "  <th>const</th>                 <td> 3401.9633</td> <td>  279.139</td> <td>   12.187</td> <td> 0.000</td> <td> 2853.522</td> <td> 3950.405</td>\n",
       "</tr>\n",
       "<tr>\n",
       "  <th>yr</th>                    <td> 2015.7872</td> <td>   70.493</td> <td>   28.596</td> <td> 0.000</td> <td> 1877.286</td> <td> 2154.288</td>\n",
       "</tr>\n",
       "<tr>\n",
       "  <th>holiday</th>               <td> -874.9112</td> <td>  228.945</td> <td>   -3.821</td> <td> 0.000</td> <td>-1324.733</td> <td> -425.089</td>\n",
       "</tr>\n",
       "<tr>\n",
       "  <th>atemp</th>                 <td> 4118.1201</td> <td>  272.120</td> <td>   15.133</td> <td> 0.000</td> <td> 3583.471</td> <td> 4652.769</td>\n",
       "</tr>\n",
       "<tr>\n",
       "  <th>hum</th>                   <td>-1964.5352</td> <td>  336.072</td> <td>   -5.846</td> <td> 0.000</td> <td>-2624.836</td> <td>-1304.235</td>\n",
       "</tr>\n",
       "<tr>\n",
       "  <th>windspeed</th>             <td>-1473.3277</td> <td>  233.755</td> <td>   -6.303</td> <td> 0.000</td> <td>-1932.600</td> <td>-1014.055</td>\n",
       "</tr>\n",
       "<tr>\n",
       "  <th>season_spring</th>         <td> -980.3799</td> <td>  132.891</td> <td>   -7.377</td> <td> 0.000</td> <td>-1241.479</td> <td> -719.281</td>\n",
       "</tr>\n",
       "<tr>\n",
       "  <th>season_winter</th>         <td>  742.3217</td> <td>  113.469</td> <td>    6.542</td> <td> 0.000</td> <td>  519.382</td> <td>  965.262</td>\n",
       "</tr>\n",
       "<tr>\n",
       "  <th>mnth_Dec</th>              <td> -462.2108</td> <td>  140.731</td> <td>   -3.284</td> <td> 0.001</td> <td> -738.713</td> <td> -185.709</td>\n",
       "</tr>\n",
       "<tr>\n",
       "  <th>mnth_July</th>             <td> -694.2188</td> <td>  147.007</td> <td>   -4.722</td> <td> 0.000</td> <td> -983.052</td> <td> -405.386</td>\n",
       "</tr>\n",
       "<tr>\n",
       "  <th>mnth_Nov</th>              <td> -405.3503</td> <td>  152.836</td> <td>   -2.652</td> <td> 0.008</td> <td> -705.637</td> <td> -105.064</td>\n",
       "</tr>\n",
       "<tr>\n",
       "  <th>mnth_Sept</th>             <td>  583.1576</td> <td>  133.382</td> <td>    4.372</td> <td> 0.000</td> <td>  321.094</td> <td>  845.222</td>\n",
       "</tr>\n",
       "<tr>\n",
       "  <th>weekday_Mon</th>           <td>  228.8381</td> <td>  100.780</td> <td>    2.271</td> <td> 0.024</td> <td>   30.830</td> <td>  426.846</td>\n",
       "</tr>\n",
       "<tr>\n",
       "  <th>weathersit_cloudy</th>     <td> -361.8216</td> <td>   93.306</td> <td>   -3.878</td> <td> 0.000</td> <td> -545.145</td> <td> -178.498</td>\n",
       "</tr>\n",
       "<tr>\n",
       "  <th>weathersit_light rain</th> <td>-2516.7083</td> <td>  293.454</td> <td>   -8.576</td> <td> 0.000</td> <td>-3093.274</td> <td>-1940.143</td>\n",
       "</tr>\n",
       "</table>\n",
       "<table class=\"simpletable\">\n",
       "<tr>\n",
       "  <th>Omnibus:</th>       <td>82.635</td> <th>  Durbin-Watson:     </th> <td>   2.081</td>\n",
       "</tr>\n",
       "<tr>\n",
       "  <th>Prob(Omnibus):</th> <td> 0.000</td> <th>  Jarque-Bera (JB):  </th> <td> 202.074</td>\n",
       "</tr>\n",
       "<tr>\n",
       "  <th>Skew:</th>          <td>-0.829</td> <th>  Prob(JB):          </th> <td>1.32e-44</td>\n",
       "</tr>\n",
       "<tr>\n",
       "  <th>Kurtosis:</th>      <td> 5.596</td> <th>  Cond. No.          </th> <td>    19.4</td>\n",
       "</tr>\n",
       "</table><br/><br/>Notes:<br/>[1] Standard Errors assume that the covariance matrix of the errors is correctly specified."
      ],
      "text/plain": [
       "<class 'statsmodels.iolib.summary.Summary'>\n",
       "\"\"\"\n",
       "                            OLS Regression Results                            \n",
       "==============================================================================\n",
       "Dep. Variable:                    cnt   R-squared:                       0.851\n",
       "Model:                            OLS   Adj. R-squared:                  0.847\n",
       "Method:                 Least Squares   F-statistic:                     202.8\n",
       "Date:                Thu, 24 Jun 2021   Prob (F-statistic):          7.57e-195\n",
       "Time:                        10:30:41   Log-Likelihood:                -4118.4\n",
       "No. Observations:                 511   AIC:                             8267.\n",
       "Df Residuals:                     496   BIC:                             8330.\n",
       "Df Model:                          14                                         \n",
       "Covariance Type:            nonrobust                                         \n",
       "=========================================================================================\n",
       "                            coef    std err          t      P>|t|      [0.025      0.975]\n",
       "-----------------------------------------------------------------------------------------\n",
       "const                  3401.9633    279.139     12.187      0.000    2853.522    3950.405\n",
       "yr                     2015.7872     70.493     28.596      0.000    1877.286    2154.288\n",
       "holiday                -874.9112    228.945     -3.821      0.000   -1324.733    -425.089\n",
       "atemp                  4118.1201    272.120     15.133      0.000    3583.471    4652.769\n",
       "hum                   -1964.5352    336.072     -5.846      0.000   -2624.836   -1304.235\n",
       "windspeed             -1473.3277    233.755     -6.303      0.000   -1932.600   -1014.055\n",
       "season_spring          -980.3799    132.891     -7.377      0.000   -1241.479    -719.281\n",
       "season_winter           742.3217    113.469      6.542      0.000     519.382     965.262\n",
       "mnth_Dec               -462.2108    140.731     -3.284      0.001    -738.713    -185.709\n",
       "mnth_July              -694.2188    147.007     -4.722      0.000    -983.052    -405.386\n",
       "mnth_Nov               -405.3503    152.836     -2.652      0.008    -705.637    -105.064\n",
       "mnth_Sept               583.1576    133.382      4.372      0.000     321.094     845.222\n",
       "weekday_Mon             228.8381    100.780      2.271      0.024      30.830     426.846\n",
       "weathersit_cloudy      -361.8216     93.306     -3.878      0.000    -545.145    -178.498\n",
       "weathersit_light rain -2516.7083    293.454     -8.576      0.000   -3093.274   -1940.143\n",
       "==============================================================================\n",
       "Omnibus:                       82.635   Durbin-Watson:                   2.081\n",
       "Prob(Omnibus):                  0.000   Jarque-Bera (JB):              202.074\n",
       "Skew:                          -0.829   Prob(JB):                     1.32e-44\n",
       "Kurtosis:                       5.596   Cond. No.                         19.4\n",
       "==============================================================================\n",
       "\n",
       "Notes:\n",
       "[1] Standard Errors assume that the covariance matrix of the errors is correctly specified.\n",
       "\"\"\""
      ]
     },
     "execution_count": 61,
     "metadata": {},
     "output_type": "execute_result"
    }
   ],
   "source": [
    "x_train_rfe=x_train[col]\n",
    "x_train_rfe=sm.add_constant(x_train_rfe)\n",
    "lm=sm.OLS(y_train,x_train_rfe).fit()\n",
    "lm.summary()"
   ]
  },
  {
   "cell_type": "code",
   "execution_count": 62,
   "metadata": {},
   "outputs": [
    {
     "data": {
      "text/html": [
       "<div>\n",
       "<style scoped>\n",
       "    .dataframe tbody tr th:only-of-type {\n",
       "        vertical-align: middle;\n",
       "    }\n",
       "\n",
       "    .dataframe tbody tr th {\n",
       "        vertical-align: top;\n",
       "    }\n",
       "\n",
       "    .dataframe thead th {\n",
       "        text-align: right;\n",
       "    }\n",
       "</style>\n",
       "<table border=\"1\" class=\"dataframe\">\n",
       "  <thead>\n",
       "    <tr style=\"text-align: right;\">\n",
       "      <th></th>\n",
       "      <th>Features</th>\n",
       "      <th>VIF</th>\n",
       "    </tr>\n",
       "  </thead>\n",
       "  <tbody>\n",
       "    <tr>\n",
       "      <th>3</th>\n",
       "      <td>hum</td>\n",
       "      <td>24.43</td>\n",
       "    </tr>\n",
       "    <tr>\n",
       "      <th>2</th>\n",
       "      <td>atemp</td>\n",
       "      <td>16.24</td>\n",
       "    </tr>\n",
       "    <tr>\n",
       "      <th>4</th>\n",
       "      <td>windspeed</td>\n",
       "      <td>4.61</td>\n",
       "    </tr>\n",
       "    <tr>\n",
       "      <th>6</th>\n",
       "      <td>season_winter</td>\n",
       "      <td>2.74</td>\n",
       "    </tr>\n",
       "    <tr>\n",
       "      <th>5</th>\n",
       "      <td>season_spring</td>\n",
       "      <td>2.70</td>\n",
       "    </tr>\n",
       "    <tr>\n",
       "      <th>12</th>\n",
       "      <td>weathersit_cloudy</td>\n",
       "      <td>2.44</td>\n",
       "    </tr>\n",
       "    <tr>\n",
       "      <th>0</th>\n",
       "      <td>yr</td>\n",
       "      <td>2.05</td>\n",
       "    </tr>\n",
       "    <tr>\n",
       "      <th>9</th>\n",
       "      <td>mnth_Nov</td>\n",
       "      <td>1.78</td>\n",
       "    </tr>\n",
       "    <tr>\n",
       "      <th>7</th>\n",
       "      <td>mnth_Dec</td>\n",
       "      <td>1.39</td>\n",
       "    </tr>\n",
       "    <tr>\n",
       "      <th>8</th>\n",
       "      <td>mnth_July</td>\n",
       "      <td>1.39</td>\n",
       "    </tr>\n",
       "    <tr>\n",
       "      <th>10</th>\n",
       "      <td>mnth_Sept</td>\n",
       "      <td>1.21</td>\n",
       "    </tr>\n",
       "    <tr>\n",
       "      <th>11</th>\n",
       "      <td>weekday_Mon</td>\n",
       "      <td>1.18</td>\n",
       "    </tr>\n",
       "    <tr>\n",
       "      <th>13</th>\n",
       "      <td>weathersit_light rain</td>\n",
       "      <td>1.11</td>\n",
       "    </tr>\n",
       "    <tr>\n",
       "      <th>1</th>\n",
       "      <td>holiday</td>\n",
       "      <td>1.04</td>\n",
       "    </tr>\n",
       "  </tbody>\n",
       "</table>\n",
       "</div>"
      ],
      "text/plain": [
       "                 Features    VIF\n",
       "3                     hum  24.43\n",
       "2                   atemp  16.24\n",
       "4               windspeed   4.61\n",
       "6           season_winter   2.74\n",
       "5           season_spring   2.70\n",
       "12      weathersit_cloudy   2.44\n",
       "0                      yr   2.05\n",
       "9                mnth_Nov   1.78\n",
       "7                mnth_Dec   1.39\n",
       "8               mnth_July   1.39\n",
       "10              mnth_Sept   1.21\n",
       "11            weekday_Mon   1.18\n",
       "13  weathersit_light rain   1.11\n",
       "1                 holiday   1.04"
      ]
     },
     "execution_count": 62,
     "metadata": {},
     "output_type": "execute_result"
    }
   ],
   "source": [
    "vif=pd.DataFrame()\n",
    "vif[\"Features\"]=a.columns\n",
    "vif[\"VIF\"]=[ variance_inflation_factor(a.values,i) for i in range(a.shape[1])]\n",
    "vif[\"VIF\"]= round(vif[\"VIF\"],2)\n",
    "vif.sort_values(by = \"VIF\",ascending=False)"
   ]
  },
  {
   "cell_type": "code",
   "execution_count": 63,
   "metadata": {},
   "outputs": [],
   "source": [
    "a.drop(\"hum\",axis=1,inplace=True)\n",
    "col=a.columns"
   ]
  },
  {
   "cell_type": "code",
   "execution_count": 64,
   "metadata": {},
   "outputs": [
    {
     "data": {
      "text/html": [
       "<table class=\"simpletable\">\n",
       "<caption>OLS Regression Results</caption>\n",
       "<tr>\n",
       "  <th>Dep. Variable:</th>           <td>cnt</td>       <th>  R-squared:         </th> <td>   0.841</td> \n",
       "</tr>\n",
       "<tr>\n",
       "  <th>Model:</th>                   <td>OLS</td>       <th>  Adj. R-squared:    </th> <td>   0.837</td> \n",
       "</tr>\n",
       "<tr>\n",
       "  <th>Method:</th>             <td>Least Squares</td>  <th>  F-statistic:       </th> <td>   202.3</td> \n",
       "</tr>\n",
       "<tr>\n",
       "  <th>Date:</th>             <td>Thu, 24 Jun 2021</td> <th>  Prob (F-statistic):</th> <td>7.27e-189</td>\n",
       "</tr>\n",
       "<tr>\n",
       "  <th>Time:</th>                 <td>10:30:41</td>     <th>  Log-Likelihood:    </th> <td> -4135.4</td> \n",
       "</tr>\n",
       "<tr>\n",
       "  <th>No. Observations:</th>      <td>   511</td>      <th>  AIC:               </th> <td>   8299.</td> \n",
       "</tr>\n",
       "<tr>\n",
       "  <th>Df Residuals:</th>          <td>   497</td>      <th>  BIC:               </th> <td>   8358.</td> \n",
       "</tr>\n",
       "<tr>\n",
       "  <th>Df Model:</th>              <td>    13</td>      <th>                     </th>     <td> </td>    \n",
       "</tr>\n",
       "<tr>\n",
       "  <th>Covariance Type:</th>      <td>nonrobust</td>    <th>                     </th>     <td> </td>    \n",
       "</tr>\n",
       "</table>\n",
       "<table class=\"simpletable\">\n",
       "<tr>\n",
       "            <td></td>               <th>coef</th>     <th>std err</th>      <th>t</th>      <th>P>|t|</th>  <th>[0.025</th>    <th>0.975]</th>  \n",
       "</tr>\n",
       "<tr>\n",
       "  <th>const</th>                 <td> 2351.2692</td> <td>  220.581</td> <td>   10.659</td> <td> 0.000</td> <td> 1917.883</td> <td> 2784.656</td>\n",
       "</tr>\n",
       "<tr>\n",
       "  <th>yr</th>                    <td> 2085.1362</td> <td>   71.769</td> <td>   29.054</td> <td> 0.000</td> <td> 1944.129</td> <td> 2226.143</td>\n",
       "</tr>\n",
       "<tr>\n",
       "  <th>holiday</th>               <td> -942.8654</td> <td>  236.157</td> <td>   -3.993</td> <td> 0.000</td> <td>-1406.854</td> <td> -478.877</td>\n",
       "</tr>\n",
       "<tr>\n",
       "  <th>atemp</th>                 <td> 3714.8573</td> <td>  271.872</td> <td>   13.664</td> <td> 0.000</td> <td> 3180.697</td> <td> 4249.018</td>\n",
       "</tr>\n",
       "<tr>\n",
       "  <th>windspeed</th>             <td>-1093.6432</td> <td>  231.922</td> <td>   -4.716</td> <td> 0.000</td> <td>-1549.312</td> <td> -637.974</td>\n",
       "</tr>\n",
       "<tr>\n",
       "  <th>season_spring</th>         <td>-1050.4138</td> <td>  136.695</td> <td>   -7.684</td> <td> 0.000</td> <td>-1318.985</td> <td> -781.842</td>\n",
       "</tr>\n",
       "<tr>\n",
       "  <th>season_winter</th>         <td>  658.1912</td> <td>  116.248</td> <td>    5.662</td> <td> 0.000</td> <td>  429.792</td> <td>  886.590</td>\n",
       "</tr>\n",
       "<tr>\n",
       "  <th>mnth_Dec</th>              <td> -513.6262</td> <td>  145.067</td> <td>   -3.541</td> <td> 0.000</td> <td> -798.646</td> <td> -228.606</td>\n",
       "</tr>\n",
       "<tr>\n",
       "  <th>mnth_July</th>             <td> -607.9282</td> <td>  151.066</td> <td>   -4.024</td> <td> 0.000</td> <td> -904.735</td> <td> -311.121</td>\n",
       "</tr>\n",
       "<tr>\n",
       "  <th>mnth_Nov</th>              <td> -433.4182</td> <td>  157.776</td> <td>   -2.747</td> <td> 0.006</td> <td> -743.409</td> <td> -123.427</td>\n",
       "</tr>\n",
       "<tr>\n",
       "  <th>mnth_Sept</th>             <td>  533.1105</td> <td>  137.477</td> <td>    3.878</td> <td> 0.000</td> <td>  263.002</td> <td>  803.219</td>\n",
       "</tr>\n",
       "<tr>\n",
       "  <th>weekday_Mon</th>           <td>  235.5940</td> <td>  104.082</td> <td>    2.264</td> <td> 0.024</td> <td>   31.099</td> <td>  440.089</td>\n",
       "</tr>\n",
       "<tr>\n",
       "  <th>weathersit_cloudy</th>     <td> -693.5561</td> <td>   76.496</td> <td>   -9.067</td> <td> 0.000</td> <td> -843.851</td> <td> -543.261</td>\n",
       "</tr>\n",
       "<tr>\n",
       "  <th>weathersit_light rain</th> <td>-2965.9457</td> <td>  292.510</td> <td>  -10.140</td> <td> 0.000</td> <td>-3540.655</td> <td>-2391.236</td>\n",
       "</tr>\n",
       "</table>\n",
       "<table class=\"simpletable\">\n",
       "<tr>\n",
       "  <th>Omnibus:</th>       <td>86.670</td> <th>  Durbin-Watson:     </th> <td>   2.121</td>\n",
       "</tr>\n",
       "<tr>\n",
       "  <th>Prob(Omnibus):</th> <td> 0.000</td> <th>  Jarque-Bera (JB):  </th> <td> 216.718</td>\n",
       "</tr>\n",
       "<tr>\n",
       "  <th>Skew:</th>          <td>-0.860</td> <th>  Prob(JB):          </th> <td>8.72e-48</td>\n",
       "</tr>\n",
       "<tr>\n",
       "  <th>Kurtosis:</th>      <td> 5.687</td> <th>  Cond. No.          </th> <td>    14.9</td>\n",
       "</tr>\n",
       "</table><br/><br/>Notes:<br/>[1] Standard Errors assume that the covariance matrix of the errors is correctly specified."
      ],
      "text/plain": [
       "<class 'statsmodels.iolib.summary.Summary'>\n",
       "\"\"\"\n",
       "                            OLS Regression Results                            \n",
       "==============================================================================\n",
       "Dep. Variable:                    cnt   R-squared:                       0.841\n",
       "Model:                            OLS   Adj. R-squared:                  0.837\n",
       "Method:                 Least Squares   F-statistic:                     202.3\n",
       "Date:                Thu, 24 Jun 2021   Prob (F-statistic):          7.27e-189\n",
       "Time:                        10:30:41   Log-Likelihood:                -4135.4\n",
       "No. Observations:                 511   AIC:                             8299.\n",
       "Df Residuals:                     497   BIC:                             8358.\n",
       "Df Model:                          13                                         \n",
       "Covariance Type:            nonrobust                                         \n",
       "=========================================================================================\n",
       "                            coef    std err          t      P>|t|      [0.025      0.975]\n",
       "-----------------------------------------------------------------------------------------\n",
       "const                  2351.2692    220.581     10.659      0.000    1917.883    2784.656\n",
       "yr                     2085.1362     71.769     29.054      0.000    1944.129    2226.143\n",
       "holiday                -942.8654    236.157     -3.993      0.000   -1406.854    -478.877\n",
       "atemp                  3714.8573    271.872     13.664      0.000    3180.697    4249.018\n",
       "windspeed             -1093.6432    231.922     -4.716      0.000   -1549.312    -637.974\n",
       "season_spring         -1050.4138    136.695     -7.684      0.000   -1318.985    -781.842\n",
       "season_winter           658.1912    116.248      5.662      0.000     429.792     886.590\n",
       "mnth_Dec               -513.6262    145.067     -3.541      0.000    -798.646    -228.606\n",
       "mnth_July              -607.9282    151.066     -4.024      0.000    -904.735    -311.121\n",
       "mnth_Nov               -433.4182    157.776     -2.747      0.006    -743.409    -123.427\n",
       "mnth_Sept               533.1105    137.477      3.878      0.000     263.002     803.219\n",
       "weekday_Mon             235.5940    104.082      2.264      0.024      31.099     440.089\n",
       "weathersit_cloudy      -693.5561     76.496     -9.067      0.000    -843.851    -543.261\n",
       "weathersit_light rain -2965.9457    292.510    -10.140      0.000   -3540.655   -2391.236\n",
       "==============================================================================\n",
       "Omnibus:                       86.670   Durbin-Watson:                   2.121\n",
       "Prob(Omnibus):                  0.000   Jarque-Bera (JB):              216.718\n",
       "Skew:                          -0.860   Prob(JB):                     8.72e-48\n",
       "Kurtosis:                       5.687   Cond. No.                         14.9\n",
       "==============================================================================\n",
       "\n",
       "Notes:\n",
       "[1] Standard Errors assume that the covariance matrix of the errors is correctly specified.\n",
       "\"\"\""
      ]
     },
     "execution_count": 64,
     "metadata": {},
     "output_type": "execute_result"
    }
   ],
   "source": [
    "x_train_rfe=x_train[col]\n",
    "x_train_rfe=sm.add_constant(x_train_rfe)\n",
    "lm=sm.OLS(y_train,x_train_rfe).fit()\n",
    "lm.summary()"
   ]
  },
  {
   "cell_type": "code",
   "execution_count": 65,
   "metadata": {},
   "outputs": [
    {
     "data": {
      "text/html": [
       "<div>\n",
       "<style scoped>\n",
       "    .dataframe tbody tr th:only-of-type {\n",
       "        vertical-align: middle;\n",
       "    }\n",
       "\n",
       "    .dataframe tbody tr th {\n",
       "        vertical-align: top;\n",
       "    }\n",
       "\n",
       "    .dataframe thead th {\n",
       "        text-align: right;\n",
       "    }\n",
       "</style>\n",
       "<table border=\"1\" class=\"dataframe\">\n",
       "  <thead>\n",
       "    <tr style=\"text-align: right;\">\n",
       "      <th></th>\n",
       "      <th>Features</th>\n",
       "      <th>VIF</th>\n",
       "    </tr>\n",
       "  </thead>\n",
       "  <tbody>\n",
       "    <tr>\n",
       "      <th>2</th>\n",
       "      <td>atemp</td>\n",
       "      <td>5.07</td>\n",
       "    </tr>\n",
       "    <tr>\n",
       "      <th>3</th>\n",
       "      <td>windspeed</td>\n",
       "      <td>4.54</td>\n",
       "    </tr>\n",
       "    <tr>\n",
       "      <th>5</th>\n",
       "      <td>season_winter</td>\n",
       "      <td>2.39</td>\n",
       "    </tr>\n",
       "    <tr>\n",
       "      <th>0</th>\n",
       "      <td>yr</td>\n",
       "      <td>2.04</td>\n",
       "    </tr>\n",
       "    <tr>\n",
       "      <th>4</th>\n",
       "      <td>season_spring</td>\n",
       "      <td>1.77</td>\n",
       "    </tr>\n",
       "    <tr>\n",
       "      <th>8</th>\n",
       "      <td>mnth_Nov</td>\n",
       "      <td>1.74</td>\n",
       "    </tr>\n",
       "    <tr>\n",
       "      <th>11</th>\n",
       "      <td>weathersit_cloudy</td>\n",
       "      <td>1.54</td>\n",
       "    </tr>\n",
       "    <tr>\n",
       "      <th>7</th>\n",
       "      <td>mnth_July</td>\n",
       "      <td>1.35</td>\n",
       "    </tr>\n",
       "    <tr>\n",
       "      <th>6</th>\n",
       "      <td>mnth_Dec</td>\n",
       "      <td>1.34</td>\n",
       "    </tr>\n",
       "    <tr>\n",
       "      <th>9</th>\n",
       "      <td>mnth_Sept</td>\n",
       "      <td>1.20</td>\n",
       "    </tr>\n",
       "    <tr>\n",
       "      <th>10</th>\n",
       "      <td>weekday_Mon</td>\n",
       "      <td>1.18</td>\n",
       "    </tr>\n",
       "    <tr>\n",
       "      <th>12</th>\n",
       "      <td>weathersit_light rain</td>\n",
       "      <td>1.06</td>\n",
       "    </tr>\n",
       "    <tr>\n",
       "      <th>1</th>\n",
       "      <td>holiday</td>\n",
       "      <td>1.04</td>\n",
       "    </tr>\n",
       "  </tbody>\n",
       "</table>\n",
       "</div>"
      ],
      "text/plain": [
       "                 Features   VIF\n",
       "2                   atemp  5.07\n",
       "3               windspeed  4.54\n",
       "5           season_winter  2.39\n",
       "0                      yr  2.04\n",
       "4           season_spring  1.77\n",
       "8                mnth_Nov  1.74\n",
       "11      weathersit_cloudy  1.54\n",
       "7               mnth_July  1.35\n",
       "6                mnth_Dec  1.34\n",
       "9               mnth_Sept  1.20\n",
       "10            weekday_Mon  1.18\n",
       "12  weathersit_light rain  1.06\n",
       "1                 holiday  1.04"
      ]
     },
     "execution_count": 65,
     "metadata": {},
     "output_type": "execute_result"
    }
   ],
   "source": [
    "vif=pd.DataFrame()\n",
    "vif[\"Features\"]=a.columns\n",
    "vif[\"VIF\"]=[ variance_inflation_factor(a.values,i) for i in range(a.shape[1])]\n",
    "vif[\"VIF\"]= round(vif[\"VIF\"],2)\n",
    "vif.sort_values(by = \"VIF\",ascending=False)"
   ]
  },
  {
   "cell_type": "code",
   "execution_count": 66,
   "metadata": {},
   "outputs": [],
   "source": [
    "a.drop(\"atemp\",axis=1,inplace=True)\n",
    "col=a.columns"
   ]
  },
  {
   "cell_type": "code",
   "execution_count": 67,
   "metadata": {},
   "outputs": [
    {
     "data": {
      "text/html": [
       "<table class=\"simpletable\">\n",
       "<caption>OLS Regression Results</caption>\n",
       "<tr>\n",
       "  <th>Dep. Variable:</th>           <td>cnt</td>       <th>  R-squared:         </th> <td>   0.781</td> \n",
       "</tr>\n",
       "<tr>\n",
       "  <th>Model:</th>                   <td>OLS</td>       <th>  Adj. R-squared:    </th> <td>   0.776</td> \n",
       "</tr>\n",
       "<tr>\n",
       "  <th>Method:</th>             <td>Least Squares</td>  <th>  F-statistic:       </th> <td>   148.3</td> \n",
       "</tr>\n",
       "<tr>\n",
       "  <th>Date:</th>             <td>Thu, 24 Jun 2021</td> <th>  Prob (F-statistic):</th> <td>1.03e-155</td>\n",
       "</tr>\n",
       "<tr>\n",
       "  <th>Time:</th>                 <td>10:30:42</td>     <th>  Log-Likelihood:    </th> <td> -4216.9</td> \n",
       "</tr>\n",
       "<tr>\n",
       "  <th>No. Observations:</th>      <td>   511</td>      <th>  AIC:               </th> <td>   8460.</td> \n",
       "</tr>\n",
       "<tr>\n",
       "  <th>Df Residuals:</th>          <td>   498</td>      <th>  BIC:               </th> <td>   8515.</td> \n",
       "</tr>\n",
       "<tr>\n",
       "  <th>Df Model:</th>              <td>    12</td>      <th>                     </th>     <td> </td>    \n",
       "</tr>\n",
       "<tr>\n",
       "  <th>Covariance Type:</th>      <td>nonrobust</td>    <th>                     </th>     <td> </td>    \n",
       "</tr>\n",
       "</table>\n",
       "<table class=\"simpletable\">\n",
       "<tr>\n",
       "            <td></td>               <th>coef</th>     <th>std err</th>      <th>t</th>      <th>P>|t|</th>  <th>[0.025</th>    <th>0.975]</th>  \n",
       "</tr>\n",
       "<tr>\n",
       "  <th>const</th>                 <td> 4946.9590</td> <td>  131.362</td> <td>   37.659</td> <td> 0.000</td> <td> 4688.867</td> <td> 5205.051</td>\n",
       "</tr>\n",
       "<tr>\n",
       "  <th>yr</th>                    <td> 2165.7646</td> <td>   83.807</td> <td>   25.842</td> <td> 0.000</td> <td> 2001.105</td> <td> 2330.424</td>\n",
       "</tr>\n",
       "<tr>\n",
       "  <th>holiday</th>               <td> -919.6176</td> <td>  276.700</td> <td>   -3.324</td> <td> 0.001</td> <td>-1463.260</td> <td> -375.975</td>\n",
       "</tr>\n",
       "<tr>\n",
       "  <th>windspeed</th>             <td>-1596.6808</td> <td>  268.300</td> <td>   -5.951</td> <td> 0.000</td> <td>-2123.820</td> <td>-1069.542</td>\n",
       "</tr>\n",
       "<tr>\n",
       "  <th>season_spring</th>         <td>-2387.6081</td> <td>  111.826</td> <td>  -21.351</td> <td> 0.000</td> <td>-2607.316</td> <td>-2167.900</td>\n",
       "</tr>\n",
       "<tr>\n",
       "  <th>season_winter</th>         <td>  169.1291</td> <td>  129.592</td> <td>    1.305</td> <td> 0.192</td> <td>  -85.486</td> <td>  423.744</td>\n",
       "</tr>\n",
       "<tr>\n",
       "  <th>mnth_Dec</th>              <td> -951.4626</td> <td>  165.778</td> <td>   -5.739</td> <td> 0.000</td> <td>-1277.173</td> <td> -625.753</td>\n",
       "</tr>\n",
       "<tr>\n",
       "  <th>mnth_July</th>             <td>   90.9438</td> <td>  166.551</td> <td>    0.546</td> <td> 0.585</td> <td> -236.286</td> <td>  418.174</td>\n",
       "</tr>\n",
       "<tr>\n",
       "  <th>mnth_Nov</th>              <td> -928.3182</td> <td>  179.931</td> <td>   -5.159</td> <td> 0.000</td> <td>-1281.835</td> <td> -574.801</td>\n",
       "</tr>\n",
       "<tr>\n",
       "  <th>mnth_Sept</th>             <td>  716.3227</td> <td>  160.315</td> <td>    4.468</td> <td> 0.000</td> <td>  401.345</td> <td> 1031.301</td>\n",
       "</tr>\n",
       "<tr>\n",
       "  <th>weekday_Mon</th>           <td>  265.5023</td> <td>  121.927</td> <td>    2.178</td> <td> 0.030</td> <td>   25.948</td> <td>  505.056</td>\n",
       "</tr>\n",
       "<tr>\n",
       "  <th>weathersit_cloudy</th>     <td> -811.9299</td> <td>   89.054</td> <td>   -9.117</td> <td> 0.000</td> <td> -986.898</td> <td> -636.962</td>\n",
       "</tr>\n",
       "<tr>\n",
       "  <th>weathersit_light rain</th> <td>-2858.0285</td> <td>  342.612</td> <td>   -8.342</td> <td> 0.000</td> <td>-3531.172</td> <td>-2184.885</td>\n",
       "</tr>\n",
       "</table>\n",
       "<table class=\"simpletable\">\n",
       "<tr>\n",
       "  <th>Omnibus:</th>       <td>47.962</td> <th>  Durbin-Watson:     </th> <td>   2.062</td>\n",
       "</tr>\n",
       "<tr>\n",
       "  <th>Prob(Omnibus):</th> <td> 0.000</td> <th>  Jarque-Bera (JB):  </th> <td> 112.000</td>\n",
       "</tr>\n",
       "<tr>\n",
       "  <th>Skew:</th>          <td>-0.503</td> <th>  Prob(JB):          </th> <td>4.78e-25</td>\n",
       "</tr>\n",
       "<tr>\n",
       "  <th>Kurtosis:</th>      <td> 5.061</td> <th>  Cond. No.          </th> <td>    10.9</td>\n",
       "</tr>\n",
       "</table><br/><br/>Notes:<br/>[1] Standard Errors assume that the covariance matrix of the errors is correctly specified."
      ],
      "text/plain": [
       "<class 'statsmodels.iolib.summary.Summary'>\n",
       "\"\"\"\n",
       "                            OLS Regression Results                            \n",
       "==============================================================================\n",
       "Dep. Variable:                    cnt   R-squared:                       0.781\n",
       "Model:                            OLS   Adj. R-squared:                  0.776\n",
       "Method:                 Least Squares   F-statistic:                     148.3\n",
       "Date:                Thu, 24 Jun 2021   Prob (F-statistic):          1.03e-155\n",
       "Time:                        10:30:42   Log-Likelihood:                -4216.9\n",
       "No. Observations:                 511   AIC:                             8460.\n",
       "Df Residuals:                     498   BIC:                             8515.\n",
       "Df Model:                          12                                         \n",
       "Covariance Type:            nonrobust                                         \n",
       "=========================================================================================\n",
       "                            coef    std err          t      P>|t|      [0.025      0.975]\n",
       "-----------------------------------------------------------------------------------------\n",
       "const                  4946.9590    131.362     37.659      0.000    4688.867    5205.051\n",
       "yr                     2165.7646     83.807     25.842      0.000    2001.105    2330.424\n",
       "holiday                -919.6176    276.700     -3.324      0.001   -1463.260    -375.975\n",
       "windspeed             -1596.6808    268.300     -5.951      0.000   -2123.820   -1069.542\n",
       "season_spring         -2387.6081    111.826    -21.351      0.000   -2607.316   -2167.900\n",
       "season_winter           169.1291    129.592      1.305      0.192     -85.486     423.744\n",
       "mnth_Dec               -951.4626    165.778     -5.739      0.000   -1277.173    -625.753\n",
       "mnth_July                90.9438    166.551      0.546      0.585    -236.286     418.174\n",
       "mnth_Nov               -928.3182    179.931     -5.159      0.000   -1281.835    -574.801\n",
       "mnth_Sept               716.3227    160.315      4.468      0.000     401.345    1031.301\n",
       "weekday_Mon             265.5023    121.927      2.178      0.030      25.948     505.056\n",
       "weathersit_cloudy      -811.9299     89.054     -9.117      0.000    -986.898    -636.962\n",
       "weathersit_light rain -2858.0285    342.612     -8.342      0.000   -3531.172   -2184.885\n",
       "==============================================================================\n",
       "Omnibus:                       47.962   Durbin-Watson:                   2.062\n",
       "Prob(Omnibus):                  0.000   Jarque-Bera (JB):              112.000\n",
       "Skew:                          -0.503   Prob(JB):                     4.78e-25\n",
       "Kurtosis:                       5.061   Cond. No.                         10.9\n",
       "==============================================================================\n",
       "\n",
       "Notes:\n",
       "[1] Standard Errors assume that the covariance matrix of the errors is correctly specified.\n",
       "\"\"\""
      ]
     },
     "execution_count": 67,
     "metadata": {},
     "output_type": "execute_result"
    }
   ],
   "source": [
    "x_train_rfe=x_train[col]\n",
    "x_train_rfe=sm.add_constant(x_train_rfe)\n",
    "lm=sm.OLS(y_train,x_train_rfe).fit()\n",
    "lm.summary()"
   ]
  },
  {
   "cell_type": "code",
   "execution_count": 68,
   "metadata": {},
   "outputs": [
    {
     "data": {
      "text/html": [
       "<div>\n",
       "<style scoped>\n",
       "    .dataframe tbody tr th:only-of-type {\n",
       "        vertical-align: middle;\n",
       "    }\n",
       "\n",
       "    .dataframe tbody tr th {\n",
       "        vertical-align: top;\n",
       "    }\n",
       "\n",
       "    .dataframe thead th {\n",
       "        text-align: right;\n",
       "    }\n",
       "</style>\n",
       "<table border=\"1\" class=\"dataframe\">\n",
       "  <thead>\n",
       "    <tr style=\"text-align: right;\">\n",
       "      <th></th>\n",
       "      <th>Features</th>\n",
       "      <th>VIF</th>\n",
       "    </tr>\n",
       "  </thead>\n",
       "  <tbody>\n",
       "    <tr>\n",
       "      <th>2</th>\n",
       "      <td>windspeed</td>\n",
       "      <td>2.68</td>\n",
       "    </tr>\n",
       "    <tr>\n",
       "      <th>4</th>\n",
       "      <td>season_winter</td>\n",
       "      <td>2.37</td>\n",
       "    </tr>\n",
       "    <tr>\n",
       "      <th>0</th>\n",
       "      <td>yr</td>\n",
       "      <td>1.79</td>\n",
       "    </tr>\n",
       "    <tr>\n",
       "      <th>7</th>\n",
       "      <td>mnth_Nov</td>\n",
       "      <td>1.72</td>\n",
       "    </tr>\n",
       "    <tr>\n",
       "      <th>3</th>\n",
       "      <td>season_spring</td>\n",
       "      <td>1.59</td>\n",
       "    </tr>\n",
       "    <tr>\n",
       "      <th>10</th>\n",
       "      <td>weathersit_cloudy</td>\n",
       "      <td>1.48</td>\n",
       "    </tr>\n",
       "    <tr>\n",
       "      <th>5</th>\n",
       "      <td>mnth_Dec</td>\n",
       "      <td>1.33</td>\n",
       "    </tr>\n",
       "    <tr>\n",
       "      <th>9</th>\n",
       "      <td>weekday_Mon</td>\n",
       "      <td>1.16</td>\n",
       "    </tr>\n",
       "    <tr>\n",
       "      <th>8</th>\n",
       "      <td>mnth_Sept</td>\n",
       "      <td>1.13</td>\n",
       "    </tr>\n",
       "    <tr>\n",
       "      <th>6</th>\n",
       "      <td>mnth_July</td>\n",
       "      <td>1.11</td>\n",
       "    </tr>\n",
       "    <tr>\n",
       "      <th>11</th>\n",
       "      <td>weathersit_light rain</td>\n",
       "      <td>1.06</td>\n",
       "    </tr>\n",
       "    <tr>\n",
       "      <th>1</th>\n",
       "      <td>holiday</td>\n",
       "      <td>1.03</td>\n",
       "    </tr>\n",
       "  </tbody>\n",
       "</table>\n",
       "</div>"
      ],
      "text/plain": [
       "                 Features   VIF\n",
       "2               windspeed  2.68\n",
       "4           season_winter  2.37\n",
       "0                      yr  1.79\n",
       "7                mnth_Nov  1.72\n",
       "3           season_spring  1.59\n",
       "10      weathersit_cloudy  1.48\n",
       "5                mnth_Dec  1.33\n",
       "9             weekday_Mon  1.16\n",
       "8               mnth_Sept  1.13\n",
       "6               mnth_July  1.11\n",
       "11  weathersit_light rain  1.06\n",
       "1                 holiday  1.03"
      ]
     },
     "execution_count": 68,
     "metadata": {},
     "output_type": "execute_result"
    }
   ],
   "source": [
    "vif=pd.DataFrame()\n",
    "vif[\"Features\"]=a.columns\n",
    "vif[\"VIF\"]=[ variance_inflation_factor(a.values,i) for i in range(a.shape[1])]\n",
    "vif[\"VIF\"]= round(vif[\"VIF\"],2)\n",
    "vif.sort_values(by = \"VIF\",ascending=False)"
   ]
  },
  {
   "cell_type": "code",
   "execution_count": 69,
   "metadata": {},
   "outputs": [],
   "source": [
    "best_features=vif[\"Features\"]"
   ]
  },
  {
   "cell_type": "code",
   "execution_count": 70,
   "metadata": {
    "scrolled": true
   },
   "outputs": [
    {
     "data": {
      "text/plain": [
       "array(['yr', 'holiday', 'windspeed', 'season_spring', 'season_winter',\n",
       "       'mnth_Dec', 'mnth_July', 'mnth_Nov', 'mnth_Sept', 'weekday_Mon',\n",
       "       'weathersit_cloudy', 'weathersit_light rain'], dtype=object)"
      ]
     },
     "execution_count": 70,
     "metadata": {},
     "output_type": "execute_result"
    }
   ],
   "source": [
    "best_features.values"
   ]
  },
  {
   "cell_type": "markdown",
   "metadata": {},
   "source": [
    "## \"best_features.values\" are the best columns that we have selected using feature selection techniques<br/>\n",
    "## These are the best features that will help to predict our Target"
   ]
  },
  {
   "cell_type": "markdown",
   "metadata": {},
   "source": []
  },
  {
   "cell_type": "code",
   "execution_count": null,
   "metadata": {},
   "outputs": [],
   "source": []
  }
 ],
 "metadata": {
  "kernelspec": {
   "display_name": "Python 3",
   "language": "python",
   "name": "python3"
  },
  "language_info": {
   "codemirror_mode": {
    "name": "ipython",
    "version": 3
   },
   "file_extension": ".py",
   "mimetype": "text/x-python",
   "name": "python",
   "nbconvert_exporter": "python",
   "pygments_lexer": "ipython3",
   "version": "3.8.5"
  }
 },
 "nbformat": 4,
 "nbformat_minor": 4
}
